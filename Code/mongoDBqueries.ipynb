{
 "cells": [
  {
   "cell_type": "code",
   "execution_count": 1,
   "metadata": {},
   "outputs": [],
   "source": [
    "import pandas as pd\n",
    "import numpy as np\n",
    "import re"
   ]
  },
  {
   "cell_type": "code",
   "execution_count": 2,
   "metadata": {},
   "outputs": [],
   "source": [
    "df = pd.read_csv('../Data/castilla_leon/main.csv', index_col='Unnamed: 0').reset_index(drop=True)"
   ]
  },
  {
   "cell_type": "code",
   "execution_count": 4,
   "metadata": {},
   "outputs": [
    {
     "data": {
      "text/html": [
       "<div>\n",
       "<style scoped>\n",
       "    .dataframe tbody tr th:only-of-type {\n",
       "        vertical-align: middle;\n",
       "    }\n",
       "\n",
       "    .dataframe tbody tr th {\n",
       "        vertical-align: top;\n",
       "    }\n",
       "\n",
       "    .dataframe thead th {\n",
       "        text-align: right;\n",
       "    }\n",
       "</style>\n",
       "<table border=\"1\" class=\"dataframe\">\n",
       "  <thead>\n",
       "    <tr style=\"text-align: right;\">\n",
       "      <th></th>\n",
       "      <th>Comunidad Autónoma</th>\n",
       "      <th>Provincia</th>\n",
       "      <th>Municipio</th>\n",
       "      <th>Código ESP</th>\n",
       "      <th>Entidad Singular de Población</th>\n",
       "      <th>Cobertura ≥ 30Mbps</th>\n",
       "      <th>Cobertura redes fijas ≥ 100Mbps</th>\n",
       "      <th>Cobertura 3G HSPA</th>\n",
       "      <th>Cobertura 4G LTE</th>\n",
       "      <th>coord</th>\n",
       "      <th>Weather_info</th>\n",
       "      <th>CP</th>\n",
       "      <th>pob_tot_muni</th>\n",
       "      <th>partido_gov_x</th>\n",
       "      <th>pob_tot_muni.1</th>\n",
       "      <th>partido_gov_y</th>\n",
       "    </tr>\n",
       "  </thead>\n",
       "  <tbody>\n",
       "    <tr>\n",
       "      <th>248</th>\n",
       "      <td>Castilla y León</td>\n",
       "      <td>Ávila</td>\n",
       "      <td>Navaluenga</td>\n",
       "      <td>5163000100</td>\n",
       "      <td>NAVALUENGA</td>\n",
       "      <td>0.94</td>\n",
       "      <td>0.34</td>\n",
       "      <td>1.0</td>\n",
       "      <td>1.0</td>\n",
       "      <td>(40.411111111111, 4.7077777777778)</td>\n",
       "      <td>En Navaluenga, los veranos son cortos, caluros...</td>\n",
       "      <td>5163</td>\n",
       "      <td>2135</td>\n",
       "      <td>PP</td>\n",
       "      <td>2135</td>\n",
       "      <td>PP</td>\n",
       "    </tr>\n",
       "  </tbody>\n",
       "</table>\n",
       "</div>"
      ],
      "text/plain": [
       "    Comunidad Autónoma Provincia   Municipio  Código ESP  \\\n",
       "248    Castilla y León     Ávila  Navaluenga  5163000100   \n",
       "\n",
       "    Entidad Singular de Población  Cobertura ≥ 30Mbps  \\\n",
       "248                    NAVALUENGA                0.94   \n",
       "\n",
       "     Cobertura redes fijas ≥ 100Mbps  Cobertura 3G HSPA  Cobertura 4G LTE  \\\n",
       "248                             0.34                1.0               1.0   \n",
       "\n",
       "                                  coord  \\\n",
       "248  (40.411111111111, 4.7077777777778)   \n",
       "\n",
       "                                          Weather_info    CP  pob_tot_muni  \\\n",
       "248  En Navaluenga, los veranos son cortos, caluros...  5163          2135   \n",
       "\n",
       "    partido_gov_x  pob_tot_muni.1 partido_gov_y  \n",
       "248            PP            2135            PP  "
      ]
     },
     "execution_count": 4,
     "metadata": {},
     "output_type": "execute_result"
    }
   ],
   "source": [
    "df[df['Entidad Singular de Población']=='NAVALUENGA']"
   ]
  },
  {
   "cell_type": "code",
   "execution_count": 3,
   "metadata": {},
   "outputs": [],
   "source": [
    "df_mec = pd.read_csv('../Data/castilla_leon/mec.csv', index_col='Unnamed: 0').reset_index(drop=True)"
   ]
  },
  {
   "cell_type": "code",
   "execution_count": 4,
   "metadata": {},
   "outputs": [],
   "source": [
    "df['population'] = df_mec.population"
   ]
  },
  {
   "cell_type": "code",
   "execution_count": 5,
   "metadata": {},
   "outputs": [
    {
     "data": {
      "text/html": [
       "<div>\n",
       "<style scoped>\n",
       "    .dataframe tbody tr th:only-of-type {\n",
       "        vertical-align: middle;\n",
       "    }\n",
       "\n",
       "    .dataframe tbody tr th {\n",
       "        vertical-align: top;\n",
       "    }\n",
       "\n",
       "    .dataframe thead th {\n",
       "        text-align: right;\n",
       "    }\n",
       "</style>\n",
       "<table border=\"1\" class=\"dataframe\">\n",
       "  <thead>\n",
       "    <tr style=\"text-align: right;\">\n",
       "      <th></th>\n",
       "      <th>Comunidad Autónoma</th>\n",
       "      <th>Provincia</th>\n",
       "      <th>Municipio</th>\n",
       "      <th>Código ESP</th>\n",
       "      <th>Entidad Singular de Población</th>\n",
       "      <th>Cobertura ≥ 30Mbps</th>\n",
       "      <th>Cobertura redes fijas ≥ 100Mbps</th>\n",
       "      <th>Cobertura 3G HSPA</th>\n",
       "      <th>Cobertura 4G LTE</th>\n",
       "      <th>coord</th>\n",
       "      <th>Weather_info</th>\n",
       "      <th>CP</th>\n",
       "      <th>pob_tot_muni</th>\n",
       "      <th>partido_gov_x</th>\n",
       "      <th>pob_tot_muni.1</th>\n",
       "      <th>partido_gov_y</th>\n",
       "      <th>population</th>\n",
       "    </tr>\n",
       "  </thead>\n",
       "  <tbody>\n",
       "    <tr>\n",
       "      <th>6170</th>\n",
       "      <td>Castilla y León</td>\n",
       "      <td>Zamora</td>\n",
       "      <td>Viñas</td>\n",
       "      <td>49273000200</td>\n",
       "      <td>SAN BLAS</td>\n",
       "      <td>0.58</td>\n",
       "      <td>0.0</td>\n",
       "      <td>1.0</td>\n",
       "      <td>1.00</td>\n",
       "      <td>(41.773333333333, 6.4713888888889)</td>\n",
       "      <td>En San Blas, la temporada de lluvia es muy cal...</td>\n",
       "      <td>49273</td>\n",
       "      <td>1590</td>\n",
       "      <td>PP</td>\n",
       "      <td>1590</td>\n",
       "      <td>PP</td>\n",
       "      <td>35 hab.(INE2016)</td>\n",
       "    </tr>\n",
       "    <tr>\n",
       "      <th>6171</th>\n",
       "      <td>Castilla y León</td>\n",
       "      <td>Zamora</td>\n",
       "      <td>Viñas</td>\n",
       "      <td>49273000300</td>\n",
       "      <td>VEGA DE NUEZ</td>\n",
       "      <td>0.00</td>\n",
       "      <td>0.0</td>\n",
       "      <td>1.0</td>\n",
       "      <td>0.43</td>\n",
       "      <td>(41.809194444444, 6.451125)</td>\n",
       "      <td>Not found</td>\n",
       "      <td>49273</td>\n",
       "      <td>1590</td>\n",
       "      <td>PP</td>\n",
       "      <td>1590</td>\n",
       "      <td>PP</td>\n",
       "      <td>16 hab.(INE2016)</td>\n",
       "    </tr>\n",
       "    <tr>\n",
       "      <th>6172</th>\n",
       "      <td>Castilla y León</td>\n",
       "      <td>Zamora</td>\n",
       "      <td>Viñas</td>\n",
       "      <td>49273000400</td>\n",
       "      <td>VIÑAS</td>\n",
       "      <td>1.00</td>\n",
       "      <td>0.0</td>\n",
       "      <td>1.0</td>\n",
       "      <td>1.00</td>\n",
       "      <td>(41.773333333333, 6.4713888888889)</td>\n",
       "      <td>En Viña del Mar, los veranos son cómodos, árid...</td>\n",
       "      <td>49273</td>\n",
       "      <td>1590</td>\n",
       "      <td>PP</td>\n",
       "      <td>1590</td>\n",
       "      <td>PP</td>\n",
       "      <td>159 hab.(2021)</td>\n",
       "    </tr>\n",
       "    <tr>\n",
       "      <th>6173</th>\n",
       "      <td>Castilla y León</td>\n",
       "      <td>Zamora</td>\n",
       "      <td>Zamora</td>\n",
       "      <td>49275000100</td>\n",
       "      <td>CARRASCAL</td>\n",
       "      <td>0.61</td>\n",
       "      <td>0.0</td>\n",
       "      <td>1.0</td>\n",
       "      <td>1.00</td>\n",
       "      <td>(41.483875, 5.80999444)</td>\n",
       "      <td>En Carrascal, los veranos son cortos y cálidos...</td>\n",
       "      <td>49275</td>\n",
       "      <td>60297</td>\n",
       "      <td>IU</td>\n",
       "      <td>60297</td>\n",
       "      <td>IU</td>\n",
       "      <td>129 hab. (INE2018) hab.</td>\n",
       "    </tr>\n",
       "    <tr>\n",
       "      <th>6174</th>\n",
       "      <td>Castilla y León</td>\n",
       "      <td>Zamora</td>\n",
       "      <td>Zamora</td>\n",
       "      <td>49275000200</td>\n",
       "      <td>ZAMORA</td>\n",
       "      <td>1.00</td>\n",
       "      <td>1.0</td>\n",
       "      <td>1.0</td>\n",
       "      <td>1.00</td>\n",
       "      <td>(41.503333333333, 5.7555555555556)</td>\n",
       "      <td>En Zamora, los veranos son cortos, calurosos, ...</td>\n",
       "      <td>49275</td>\n",
       "      <td>60297</td>\n",
       "      <td>IU</td>\n",
       "      <td>60297</td>\n",
       "      <td>IU</td>\n",
       "      <td>60 297 hab.(2021)</td>\n",
       "    </tr>\n",
       "  </tbody>\n",
       "</table>\n",
       "</div>"
      ],
      "text/plain": [
       "     Comunidad Autónoma Provincia Municipio   Código ESP  \\\n",
       "6170    Castilla y León    Zamora     Viñas  49273000200   \n",
       "6171    Castilla y León    Zamora     Viñas  49273000300   \n",
       "6172    Castilla y León    Zamora     Viñas  49273000400   \n",
       "6173    Castilla y León    Zamora    Zamora  49275000100   \n",
       "6174    Castilla y León    Zamora    Zamora  49275000200   \n",
       "\n",
       "     Entidad Singular de Población  Cobertura ≥ 30Mbps  \\\n",
       "6170                      SAN BLAS                0.58   \n",
       "6171                  VEGA DE NUEZ                0.00   \n",
       "6172                         VIÑAS                1.00   \n",
       "6173                     CARRASCAL                0.61   \n",
       "6174                        ZAMORA                1.00   \n",
       "\n",
       "      Cobertura redes fijas ≥ 100Mbps  Cobertura 3G HSPA  Cobertura 4G LTE  \\\n",
       "6170                              0.0                1.0              1.00   \n",
       "6171                              0.0                1.0              0.43   \n",
       "6172                              0.0                1.0              1.00   \n",
       "6173                              0.0                1.0              1.00   \n",
       "6174                              1.0                1.0              1.00   \n",
       "\n",
       "                                   coord  \\\n",
       "6170  (41.773333333333, 6.4713888888889)   \n",
       "6171         (41.809194444444, 6.451125)   \n",
       "6172  (41.773333333333, 6.4713888888889)   \n",
       "6173             (41.483875, 5.80999444)   \n",
       "6174  (41.503333333333, 5.7555555555556)   \n",
       "\n",
       "                                           Weather_info     CP  pob_tot_muni  \\\n",
       "6170  En San Blas, la temporada de lluvia es muy cal...  49273          1590   \n",
       "6171                                          Not found  49273          1590   \n",
       "6172  En Viña del Mar, los veranos son cómodos, árid...  49273          1590   \n",
       "6173  En Carrascal, los veranos son cortos y cálidos...  49275         60297   \n",
       "6174  En Zamora, los veranos son cortos, calurosos, ...  49275         60297   \n",
       "\n",
       "     partido_gov_x  pob_tot_muni.1 partido_gov_y               population  \n",
       "6170            PP            1590            PP         35 hab.(INE2016)  \n",
       "6171            PP            1590            PP         16 hab.(INE2016)  \n",
       "6172            PP            1590            PP           159 hab.(2021)  \n",
       "6173            IU           60297            IU  129 hab. (INE2018) hab.  \n",
       "6174            IU           60297            IU        60 297 hab.(2021)  "
      ]
     },
     "execution_count": 5,
     "metadata": {},
     "output_type": "execute_result"
    }
   ],
   "source": [
    "df.tail()"
   ]
  },
  {
   "cell_type": "code",
   "execution_count": 6,
   "metadata": {},
   "outputs": [],
   "source": [
    "def coord_clean0(s):\n",
    "    if type(s) != float:\n",
    "        l = s.lstrip('(').rstrip(')').split(',')\n",
    "        return tuple(float(i) for i in l)[0]\n",
    "    else:\n",
    "        return np.nan\n",
    "def coord_clean1(s):\n",
    "    if type(s) != float:\n",
    "        l = s.lstrip('(').rstrip(')').split(',')\n",
    "        return tuple(float(i) for i in l)[1]\n",
    "    else:\n",
    "        return np.nan"
   ]
  },
  {
   "cell_type": "code",
   "execution_count": 7,
   "metadata": {},
   "outputs": [],
   "source": [
    "# df_copy.coord.unique()"
   ]
  },
  {
   "cell_type": "code",
   "execution_count": 8,
   "metadata": {},
   "outputs": [],
   "source": [
    "df['lat'] = df.coord.apply(coord_clean0)\n",
    "df['lon'] = df.coord.apply(coord_clean1)\n",
    "df.drop(columns=['coord'], inplace=True)"
   ]
  },
  {
   "cell_type": "code",
   "execution_count": 9,
   "metadata": {},
   "outputs": [
    {
     "data": {
      "text/html": [
       "<div>\n",
       "<style scoped>\n",
       "    .dataframe tbody tr th:only-of-type {\n",
       "        vertical-align: middle;\n",
       "    }\n",
       "\n",
       "    .dataframe tbody tr th {\n",
       "        vertical-align: top;\n",
       "    }\n",
       "\n",
       "    .dataframe thead th {\n",
       "        text-align: right;\n",
       "    }\n",
       "</style>\n",
       "<table border=\"1\" class=\"dataframe\">\n",
       "  <thead>\n",
       "    <tr style=\"text-align: right;\">\n",
       "      <th></th>\n",
       "      <th>Comunidad Autónoma</th>\n",
       "      <th>Provincia</th>\n",
       "      <th>Municipio</th>\n",
       "      <th>Código ESP</th>\n",
       "      <th>Entidad Singular de Población</th>\n",
       "      <th>Cobertura ≥ 30Mbps</th>\n",
       "      <th>Cobertura redes fijas ≥ 100Mbps</th>\n",
       "      <th>Cobertura 3G HSPA</th>\n",
       "      <th>Cobertura 4G LTE</th>\n",
       "      <th>Weather_info</th>\n",
       "      <th>CP</th>\n",
       "      <th>pob_tot_muni</th>\n",
       "      <th>partido_gov_x</th>\n",
       "      <th>pob_tot_muni.1</th>\n",
       "      <th>partido_gov_y</th>\n",
       "      <th>population</th>\n",
       "      <th>lat</th>\n",
       "      <th>lon</th>\n",
       "    </tr>\n",
       "  </thead>\n",
       "  <tbody>\n",
       "    <tr>\n",
       "      <th>6174</th>\n",
       "      <td>Castilla y León</td>\n",
       "      <td>Zamora</td>\n",
       "      <td>Zamora</td>\n",
       "      <td>49275000200</td>\n",
       "      <td>ZAMORA</td>\n",
       "      <td>1.0</td>\n",
       "      <td>1.0</td>\n",
       "      <td>1.0</td>\n",
       "      <td>1.0</td>\n",
       "      <td>En Zamora, los veranos son cortos, calurosos, ...</td>\n",
       "      <td>49275</td>\n",
       "      <td>60297</td>\n",
       "      <td>IU</td>\n",
       "      <td>60297</td>\n",
       "      <td>IU</td>\n",
       "      <td>60 297 hab.(2021)</td>\n",
       "      <td>41.503333</td>\n",
       "      <td>5.755556</td>\n",
       "    </tr>\n",
       "  </tbody>\n",
       "</table>\n",
       "</div>"
      ],
      "text/plain": [
       "     Comunidad Autónoma Provincia Municipio   Código ESP  \\\n",
       "6174    Castilla y León    Zamora    Zamora  49275000200   \n",
       "\n",
       "     Entidad Singular de Población  Cobertura ≥ 30Mbps  \\\n",
       "6174                        ZAMORA                 1.0   \n",
       "\n",
       "      Cobertura redes fijas ≥ 100Mbps  Cobertura 3G HSPA  Cobertura 4G LTE  \\\n",
       "6174                              1.0                1.0               1.0   \n",
       "\n",
       "                                           Weather_info     CP  pob_tot_muni  \\\n",
       "6174  En Zamora, los veranos son cortos, calurosos, ...  49275         60297   \n",
       "\n",
       "     partido_gov_x  pob_tot_muni.1 partido_gov_y         population  \\\n",
       "6174            IU           60297            IU  60 297 hab.(2021)   \n",
       "\n",
       "            lat       lon  \n",
       "6174  41.503333  5.755556  "
      ]
     },
     "execution_count": 9,
     "metadata": {},
     "output_type": "execute_result"
    }
   ],
   "source": [
    "df.tail(1)"
   ]
  },
  {
   "cell_type": "code",
   "execution_count": 10,
   "metadata": {},
   "outputs": [],
   "source": [
    "def regex_temp(s):\n",
    "    l = re.findall('(-\\d{1,2}|\\d{1,2})',s)\n",
    "    if l != []:\n",
    "        return l\n",
    "    else:\n",
    "        return[np.nan,np.nan,np.nan,np.nan]\n",
    "# regex_temp(a)  "
   ]
  },
  {
   "cell_type": "code",
   "execution_count": 11,
   "metadata": {},
   "outputs": [],
   "source": [
    "df['T_minMedia'] = df.Weather_info.apply(lambda x: regex_temp(x)[0])\n",
    "df['T_maxMedia'] = df.Weather_info.apply(lambda x: regex_temp(x)[1])\n",
    "df['T_minExtrema'] = df.Weather_info.apply(lambda x: regex_temp(x)[2])\n",
    "df['T_maxExtrema'] = df.Weather_info.apply(lambda x: regex_temp(x)[3])"
   ]
  },
  {
   "cell_type": "code",
   "execution_count": 12,
   "metadata": {},
   "outputs": [
    {
     "data": {
      "text/html": [
       "<div>\n",
       "<style scoped>\n",
       "    .dataframe tbody tr th:only-of-type {\n",
       "        vertical-align: middle;\n",
       "    }\n",
       "\n",
       "    .dataframe tbody tr th {\n",
       "        vertical-align: top;\n",
       "    }\n",
       "\n",
       "    .dataframe thead th {\n",
       "        text-align: right;\n",
       "    }\n",
       "</style>\n",
       "<table border=\"1\" class=\"dataframe\">\n",
       "  <thead>\n",
       "    <tr style=\"text-align: right;\">\n",
       "      <th></th>\n",
       "      <th>Comunidad Autónoma</th>\n",
       "      <th>Provincia</th>\n",
       "      <th>Municipio</th>\n",
       "      <th>Código ESP</th>\n",
       "      <th>Entidad Singular de Población</th>\n",
       "      <th>Cobertura ≥ 30Mbps</th>\n",
       "      <th>Cobertura redes fijas ≥ 100Mbps</th>\n",
       "      <th>Cobertura 3G HSPA</th>\n",
       "      <th>Cobertura 4G LTE</th>\n",
       "      <th>Weather_info</th>\n",
       "      <th>...</th>\n",
       "      <th>partido_gov_x</th>\n",
       "      <th>pob_tot_muni.1</th>\n",
       "      <th>partido_gov_y</th>\n",
       "      <th>population</th>\n",
       "      <th>lat</th>\n",
       "      <th>lon</th>\n",
       "      <th>T_minMedia</th>\n",
       "      <th>T_maxMedia</th>\n",
       "      <th>T_minExtrema</th>\n",
       "      <th>T_maxExtrema</th>\n",
       "    </tr>\n",
       "  </thead>\n",
       "  <tbody>\n",
       "    <tr>\n",
       "      <th>0</th>\n",
       "      <td>Castilla y León</td>\n",
       "      <td>Ávila</td>\n",
       "      <td>Adanero</td>\n",
       "      <td>5001000100</td>\n",
       "      <td>ADANERO</td>\n",
       "      <td>0.88</td>\n",
       "      <td>0.0</td>\n",
       "      <td>1.0</td>\n",
       "      <td>1.0</td>\n",
       "      <td>En Adanero, los veranos son cortos, calurosos,...</td>\n",
       "      <td>...</td>\n",
       "      <td>PSOE</td>\n",
       "      <td>1960</td>\n",
       "      <td>PSOE</td>\n",
       "      <td>196 hab.(2021)</td>\n",
       "      <td>40.945833</td>\n",
       "      <td>4.606667</td>\n",
       "      <td>-0</td>\n",
       "      <td>30</td>\n",
       "      <td>-5</td>\n",
       "      <td>34</td>\n",
       "    </tr>\n",
       "    <tr>\n",
       "      <th>1</th>\n",
       "      <td>Castilla y León</td>\n",
       "      <td>Ávila</td>\n",
       "      <td>Adanero</td>\n",
       "      <td>5001000200</td>\n",
       "      <td>ESTACIÓN (LA)</td>\n",
       "      <td>0.00</td>\n",
       "      <td>0.0</td>\n",
       "      <td>1.0</td>\n",
       "      <td>1.0</td>\n",
       "      <td>En Estación la Piedad, la temporada de lluvia ...</td>\n",
       "      <td>...</td>\n",
       "      <td>PSOE</td>\n",
       "      <td>1960</td>\n",
       "      <td>PSOE</td>\n",
       "      <td>NaN</td>\n",
       "      <td>NaN</td>\n",
       "      <td>NaN</td>\n",
       "      <td>7</td>\n",
       "      <td>32</td>\n",
       "      <td>4</td>\n",
       "      <td>35</td>\n",
       "    </tr>\n",
       "    <tr>\n",
       "      <th>2</th>\n",
       "      <td>Castilla y León</td>\n",
       "      <td>Ávila</td>\n",
       "      <td>Adrada, La</td>\n",
       "      <td>5002000100</td>\n",
       "      <td>ADRADA (LA)</td>\n",
       "      <td>1.00</td>\n",
       "      <td>0.3</td>\n",
       "      <td>1.0</td>\n",
       "      <td>1.0</td>\n",
       "      <td>En Sotillo de la Adrada, los veranos son corto...</td>\n",
       "      <td>...</td>\n",
       "      <td>PSOE</td>\n",
       "      <td>2757</td>\n",
       "      <td>PSOE</td>\n",
       "      <td>2757 hab.(2021)</td>\n",
       "      <td>40.299167</td>\n",
       "      <td>4.635000</td>\n",
       "      <td>0</td>\n",
       "      <td>32</td>\n",
       "      <td>-4</td>\n",
       "      <td>36</td>\n",
       "    </tr>\n",
       "    <tr>\n",
       "      <th>3</th>\n",
       "      <td>Castilla y León</td>\n",
       "      <td>Ávila</td>\n",
       "      <td>Albornos</td>\n",
       "      <td>5005000100</td>\n",
       "      <td>ALBORNOS</td>\n",
       "      <td>1.00</td>\n",
       "      <td>0.0</td>\n",
       "      <td>1.0</td>\n",
       "      <td>1.0</td>\n",
       "      <td>En Albornos, los veranos son cortos, calurosos...</td>\n",
       "      <td>...</td>\n",
       "      <td>PP</td>\n",
       "      <td>1720</td>\n",
       "      <td>PP</td>\n",
       "      <td>172 hab.(2021)</td>\n",
       "      <td>40.838611</td>\n",
       "      <td>4.881389</td>\n",
       "      <td>-0</td>\n",
       "      <td>30</td>\n",
       "      <td>-5</td>\n",
       "      <td>34</td>\n",
       "    </tr>\n",
       "    <tr>\n",
       "      <th>4</th>\n",
       "      <td>Castilla y León</td>\n",
       "      <td>Ávila</td>\n",
       "      <td>Aldeanueva de Santa Cruz</td>\n",
       "      <td>5007000100</td>\n",
       "      <td>ALDEANUEVA DE SANTA CRUZ</td>\n",
       "      <td>0.52</td>\n",
       "      <td>0.0</td>\n",
       "      <td>1.0</td>\n",
       "      <td>1.0</td>\n",
       "      <td>En Aldeanueva de Santa Cruz, los veranos son c...</td>\n",
       "      <td>...</td>\n",
       "      <td>PP</td>\n",
       "      <td>1130</td>\n",
       "      <td>PP</td>\n",
       "      <td>113 hab.(2021)</td>\n",
       "      <td>40.381667</td>\n",
       "      <td>5.419444</td>\n",
       "      <td>-2</td>\n",
       "      <td>28</td>\n",
       "      <td>-7</td>\n",
       "      <td>32</td>\n",
       "    </tr>\n",
       "  </tbody>\n",
       "</table>\n",
       "<p>5 rows × 22 columns</p>\n",
       "</div>"
      ],
      "text/plain": [
       "  Comunidad Autónoma Provincia                 Municipio  Código ESP  \\\n",
       "0    Castilla y León     Ávila                   Adanero  5001000100   \n",
       "1    Castilla y León     Ávila                   Adanero  5001000200   \n",
       "2    Castilla y León     Ávila                Adrada, La  5002000100   \n",
       "3    Castilla y León     Ávila                  Albornos  5005000100   \n",
       "4    Castilla y León     Ávila  Aldeanueva de Santa Cruz  5007000100   \n",
       "\n",
       "  Entidad Singular de Población  Cobertura ≥ 30Mbps  \\\n",
       "0                       ADANERO                0.88   \n",
       "1                 ESTACIÓN (LA)                0.00   \n",
       "2                   ADRADA (LA)                1.00   \n",
       "3                      ALBORNOS                1.00   \n",
       "4      ALDEANUEVA DE SANTA CRUZ                0.52   \n",
       "\n",
       "   Cobertura redes fijas ≥ 100Mbps  Cobertura 3G HSPA  Cobertura 4G LTE  \\\n",
       "0                              0.0                1.0               1.0   \n",
       "1                              0.0                1.0               1.0   \n",
       "2                              0.3                1.0               1.0   \n",
       "3                              0.0                1.0               1.0   \n",
       "4                              0.0                1.0               1.0   \n",
       "\n",
       "                                        Weather_info  ...  partido_gov_x  \\\n",
       "0  En Adanero, los veranos son cortos, calurosos,...  ...           PSOE   \n",
       "1  En Estación la Piedad, la temporada de lluvia ...  ...           PSOE   \n",
       "2  En Sotillo de la Adrada, los veranos son corto...  ...           PSOE   \n",
       "3  En Albornos, los veranos son cortos, calurosos...  ...             PP   \n",
       "4  En Aldeanueva de Santa Cruz, los veranos son c...  ...             PP   \n",
       "\n",
       "   pob_tot_muni.1 partido_gov_y       population        lat       lon  \\\n",
       "0            1960          PSOE   196 hab.(2021)  40.945833  4.606667   \n",
       "1            1960          PSOE              NaN        NaN       NaN   \n",
       "2            2757          PSOE  2757 hab.(2021)  40.299167  4.635000   \n",
       "3            1720            PP   172 hab.(2021)  40.838611  4.881389   \n",
       "4            1130            PP   113 hab.(2021)  40.381667  5.419444   \n",
       "\n",
       "   T_minMedia  T_maxMedia T_minExtrema T_maxExtrema  \n",
       "0          -0          30           -5           34  \n",
       "1           7          32            4           35  \n",
       "2           0          32           -4           36  \n",
       "3          -0          30           -5           34  \n",
       "4          -2          28           -7           32  \n",
       "\n",
       "[5 rows x 22 columns]"
      ]
     },
     "execution_count": 12,
     "metadata": {},
     "output_type": "execute_result"
    }
   ],
   "source": [
    "df.head()"
   ]
  },
  {
   "cell_type": "code",
   "execution_count": 13,
   "metadata": {},
   "outputs": [],
   "source": [
    "df.fillna({'lat':0.0,'lon':0.0}, inplace=True)"
   ]
  },
  {
   "cell_type": "code",
   "execution_count": 14,
   "metadata": {},
   "outputs": [],
   "source": [
    "def geopoint(lat, lon):\n",
    "    if lat != np.nan and lon != np.nan:\n",
    "        return {'type': 'Point', 'coordinates': [lon, lat]}\n",
    "    else: \n",
    "        return {'type': 'Point', 'coordinates': [0.0, 0.0]}"
   ]
  },
  {
   "cell_type": "code",
   "execution_count": 15,
   "metadata": {},
   "outputs": [],
   "source": [
    "# De cara a poder aplicar geoqueries creamos putos de location que entraran como diccionarios,\n",
    "df['location'] = df.apply(lambda x: geopoint(x.lat, x.lon), axis=1)\n",
    "df.drop(columns=['lat','lon'], inplace=True)"
   ]
  },
  {
   "cell_type": "code",
   "execution_count": 16,
   "metadata": {},
   "outputs": [
    {
     "data": {
      "text/plain": [
       "'En El Recodo, la temporada de lluvia es tórrida, opresiva y parcialmente nublada y la temporada seca es caliente y mayormente despejada. Durante el transcurso del año, la temperatura generalmente varía de 10 °C a 36 °C y rara vez baja a menos de 7 °C o sube a más de 39 °C.'"
      ]
     },
     "execution_count": 16,
     "metadata": {},
     "output_type": "execute_result"
    }
   ],
   "source": [
    "df.Weather_info[9]"
   ]
  },
  {
   "cell_type": "code",
   "execution_count": 17,
   "metadata": {},
   "outputs": [],
   "source": [
    "df['Código ESP']=df['Código ESP'].apply(lambda x: str(x))\n",
    "df.drop(columns=['CP'], inplace=True)\n",
    "df.pob_tot_muni = df.pob_tot_muni.apply(lambda x: float(x))"
   ]
  },
  {
   "cell_type": "code",
   "execution_count": 18,
   "metadata": {},
   "outputs": [],
   "source": [
    "df.to_csv('../Data/castilla_leon/toMongo.csv')"
   ]
  },
  {
   "cell_type": "code",
   "execution_count": 19,
   "metadata": {},
   "outputs": [],
   "source": [
    "# Entramos tambien datos de hospitales"
   ]
  },
  {
   "cell_type": "code",
   "execution_count": 20,
   "metadata": {},
   "outputs": [],
   "source": [
    "df_h = pd.read_csv('../Data/castilla_leon/salud/hospitals.csv', index_col=['OBJECTID'])\n",
    "df_h = df_h.reset_index(drop=True).drop(columns=[ 'TELEFONO2', 'TELEFAX','CODFU', 'DEPENDENCIA_FUNCIONAL',\n",
    "       'ACREDOCENT', 'ESCOMPLE', 'FORCOMPLE', 'CODIDCOM', 'ALTA', 'CERRADO',\n",
    "       'CAPITAL', 'CIERREFECH', 'CONCIERTO', 'EMAIL', 'TAC', 'RM', 'GAM',\n",
    "       'HEM', 'ASD', 'LIT', 'BCO', 'ALI', 'SPECT', 'PET', 'MAMOS', 'DO',\n",
    "       'DIAL','CalidadGeocodificacion','CODPAT','CODFI','CODAUTO'])\n",
    "df_h.rename(columns={'X': 'lon','Y':'lat'}, inplace=True)\n",
    "df_h = df_h[df_h.COMUNIDADES=='CASTILLA Y LEÓN']"
   ]
  },
  {
   "cell_type": "code",
   "execution_count": 21,
   "metadata": {},
   "outputs": [
    {
     "data": {
      "text/html": [
       "<div>\n",
       "<style scoped>\n",
       "    .dataframe tbody tr th:only-of-type {\n",
       "        vertical-align: middle;\n",
       "    }\n",
       "\n",
       "    .dataframe tbody tr th {\n",
       "        vertical-align: top;\n",
       "    }\n",
       "\n",
       "    .dataframe thead th {\n",
       "        text-align: right;\n",
       "    }\n",
       "</style>\n",
       "<table border=\"1\" class=\"dataframe\">\n",
       "  <thead>\n",
       "    <tr style=\"text-align: right;\">\n",
       "      <th></th>\n",
       "      <th>CODCNH</th>\n",
       "      <th>NOMBRE</th>\n",
       "      <th>DIRECCION</th>\n",
       "      <th>TELEFONO</th>\n",
       "      <th>CODMU</th>\n",
       "      <th>MUNICIPIOS</th>\n",
       "      <th>CODPROV</th>\n",
       "      <th>PROVINCIAS</th>\n",
       "      <th>COMUNIDADES</th>\n",
       "      <th>CODPOSTAL</th>\n",
       "      <th>NCAMAS</th>\n",
       "      <th>FINALIDAD_ASISITENCIAL</th>\n",
       "      <th>DEPENDENCIA_PATRIMONIAL</th>\n",
       "      <th>lon</th>\n",
       "      <th>lat</th>\n",
       "    </tr>\n",
       "  </thead>\n",
       "  <tbody>\n",
       "    <tr>\n",
       "      <th>48</th>\n",
       "      <td>50013</td>\n",
       "      <td>HOSPITAL NUESTRA SEÑORA DE SONSOLES</td>\n",
       "      <td>AV. JUAN CARLOS I, S/N</td>\n",
       "      <td>920358000.0</td>\n",
       "      <td>50198</td>\n",
       "      <td>Ávila</td>\n",
       "      <td>5</td>\n",
       "      <td>ÁVILA</td>\n",
       "      <td>CASTILLA Y LEÓN</td>\n",
       "      <td>5071</td>\n",
       "      <td>0</td>\n",
       "      <td>GENERAL</td>\n",
       "      <td>SEGURIDAD SOCIAL</td>\n",
       "      <td>-4.666844</td>\n",
       "      <td>40.665774</td>\n",
       "    </tr>\n",
       "    <tr>\n",
       "      <th>49</th>\n",
       "      <td>50034</td>\n",
       "      <td>HOSPITAL PROVINCIAL DE ÁVILA</td>\n",
       "      <td>JESÚS DEL GRAN PODER, 42</td>\n",
       "      <td>920357200.0</td>\n",
       "      <td>50198</td>\n",
       "      <td>Ávila</td>\n",
       "      <td>5</td>\n",
       "      <td>ÁVILA</td>\n",
       "      <td>CASTILLA Y LEÓN</td>\n",
       "      <td>5003</td>\n",
       "      <td>0</td>\n",
       "      <td>GENERAL</td>\n",
       "      <td>COMUNIDAD AUTÓNOMA</td>\n",
       "      <td>-4.692581</td>\n",
       "      <td>40.649845</td>\n",
       "    </tr>\n",
       "    <tr>\n",
       "      <th>50</th>\n",
       "      <td>50049</td>\n",
       "      <td>CLÍNICA SANTA TERESA</td>\n",
       "      <td>AV. SANTA CRUZ DE TENERIFE, 11</td>\n",
       "      <td>920252525.0</td>\n",
       "      <td>50198</td>\n",
       "      <td>Ávila</td>\n",
       "      <td>5</td>\n",
       "      <td>ÁVILA</td>\n",
       "      <td>CASTILLA Y LEÓN</td>\n",
       "      <td>5005</td>\n",
       "      <td>33</td>\n",
       "      <td>GENERAL</td>\n",
       "      <td>PRIVADO NO BENÉFICO</td>\n",
       "      <td>-4.686130</td>\n",
       "      <td>40.659390</td>\n",
       "    </tr>\n",
       "  </tbody>\n",
       "</table>\n",
       "</div>"
      ],
      "text/plain": [
       "    CODCNH                               NOMBRE  \\\n",
       "48   50013  HOSPITAL NUESTRA SEÑORA DE SONSOLES   \n",
       "49   50034         HOSPITAL PROVINCIAL DE ÁVILA   \n",
       "50   50049                 CLÍNICA SANTA TERESA   \n",
       "\n",
       "                         DIRECCION     TELEFONO  CODMU MUNICIPIOS  CODPROV  \\\n",
       "48          AV. JUAN CARLOS I, S/N  920358000.0  50198      Ávila        5   \n",
       "49        JESÚS DEL GRAN PODER, 42  920357200.0  50198      Ávila        5   \n",
       "50  AV. SANTA CRUZ DE TENERIFE, 11  920252525.0  50198      Ávila        5   \n",
       "\n",
       "   PROVINCIAS      COMUNIDADES  CODPOSTAL  NCAMAS FINALIDAD_ASISITENCIAL  \\\n",
       "48      ÁVILA  CASTILLA Y LEÓN       5071       0                GENERAL   \n",
       "49      ÁVILA  CASTILLA Y LEÓN       5003       0                GENERAL   \n",
       "50      ÁVILA  CASTILLA Y LEÓN       5005      33                GENERAL   \n",
       "\n",
       "   DEPENDENCIA_PATRIMONIAL       lon        lat  \n",
       "48        SEGURIDAD SOCIAL -4.666844  40.665774  \n",
       "49      COMUNIDAD AUTÓNOMA -4.692581  40.649845  \n",
       "50     PRIVADO NO BENÉFICO -4.686130  40.659390  "
      ]
     },
     "execution_count": 21,
     "metadata": {},
     "output_type": "execute_result"
    }
   ],
   "source": [
    "df_h.head(3)"
   ]
  },
  {
   "cell_type": "code",
   "execution_count": 22,
   "metadata": {},
   "outputs": [],
   "source": [
    "df_h['location'] = df_h.apply(lambda x: geopoint(x.lat, x.lon), axis=1)\n",
    "df_h.drop(columns=['lat','lon'], inplace=True)"
   ]
  },
  {
   "cell_type": "code",
   "execution_count": 23,
   "metadata": {},
   "outputs": [],
   "source": [
    "# df_h.info()\n",
    "list_int64 = ['CODCNH','CODMU','CODPROV','CODPOSTAL','NCAMAS']\n",
    "for i in list_int64:\n",
    "    df_h[i] = df_h[i].apply(lambda x: float(x))"
   ]
  },
  {
   "cell_type": "code",
   "execution_count": 24,
   "metadata": {},
   "outputs": [
    {
     "data": {
      "text/plain": [
       "{'type': 'Point', 'coordinates': [4.6066666666667, 40.945833333333]}"
      ]
     },
     "execution_count": 24,
     "metadata": {},
     "output_type": "execute_result"
    }
   ],
   "source": [
    "df.location.iloc[0]"
   ]
  },
  {
   "cell_type": "markdown",
   "metadata": {},
   "source": [
    "# Creacion de la base de datos "
   ]
  },
  {
   "cell_type": "code",
   "execution_count": 25,
   "metadata": {},
   "outputs": [],
   "source": [
    "import pymongo"
   ]
  },
  {
   "cell_type": "code",
   "execution_count": 26,
   "metadata": {},
   "outputs": [],
   "source": [
    "cliente=pymongo.MongoClient()  # llamar a la clase MongoClient\n",
    "\n",
    "db=cliente.EmptiedSpain           # crear una base de datos"
   ]
  },
  {
   "cell_type": "code",
   "execution_count": 27,
   "metadata": {},
   "outputs": [
    {
     "data": {
      "text/plain": [
       "['AlientDB', 'EmptiedSpain', 'admin', 'companies', 'config', 'local']"
      ]
     },
     "execution_count": 27,
     "metadata": {},
     "output_type": "execute_result"
    }
   ],
   "source": [
    "cliente.list_database_names()"
   ]
  },
  {
   "cell_type": "code",
   "execution_count": 28,
   "metadata": {},
   "outputs": [],
   "source": [
    "# {'type': 'Point', 'coordinates': [-73.987794, 40.740512]}}"
   ]
  },
  {
   "cell_type": "code",
   "execution_count": 29,
   "metadata": {},
   "outputs": [
    {
     "data": {
      "text/plain": [
       "['emptiedSpain']"
      ]
     },
     "execution_count": 29,
     "metadata": {},
     "output_type": "execute_result"
    }
   ],
   "source": [
    "colec=db.emptiedSpain   # crea coleccion\n",
    "db.list_collection_names()"
   ]
  },
  {
   "cell_type": "code",
   "execution_count": 30,
   "metadata": {},
   "outputs": [],
   "source": [
    "def to_apply(a):\n",
    "    a['coordinates'][0] = a['coordinates'][0]*-1\n",
    "    return a\n",
    "df.location = df.location.apply(to_apply)\n",
    "df.drop(columns=['pob_tot_muni.1','partido_gov_y'], inplace=True)"
   ]
  },
  {
   "cell_type": "code",
   "execution_count": 31,
   "metadata": {},
   "outputs": [],
   "source": [
    "# Vamos a crear los diccionarios, i a insertarlos en nuestra base de datos,\n",
    "colec.drop()\n",
    "for i in range(df.shape[0]):\n",
    "    diccio = dict(df.iloc[i])\n",
    "    # vamos a alterar este diccionario:\n",
    "    diccio['_id'] = diccio['Código ESP']\n",
    "    diccio['Entidad'] = 'Entidad de población'\n",
    "    to_insert = {k:v for k,v in diccio.items() if k not in ['Código ESP']}\n",
    "    colec.insert_one(to_insert)\n"
   ]
  },
  {
   "cell_type": "code",
   "execution_count": 32,
   "metadata": {},
   "outputs": [],
   "source": [
    "lista_municipios = list(df.Municipio.unique())"
   ]
  },
  {
   "cell_type": "code",
   "execution_count": 33,
   "metadata": {},
   "outputs": [],
   "source": [
    "# Vamos a crear los diccionarios ahora de los hospitales\n",
    "for i in range(df_h.shape[0]):\n",
    "    # print(df_h.iloc[i])\n",
    "    diccio = dict(df_h.iloc[i])\n",
    "    # vamos a alterar este diccionario:\n",
    "    diccio['_id'] = diccio['CODCNH']\n",
    "    diccio['Entidad'] = 'Hospital'\n",
    "    to_insert = {k:v for k,v in diccio.items() if k not in ['CODCNH']}\n",
    "    colec.insert_one(to_insert)"
   ]
  },
  {
   "cell_type": "code",
   "execution_count": 34,
   "metadata": {},
   "outputs": [],
   "source": [
    "def corr_location(s):\n",
    "    s = s.rstrip('}').lstrip('{')\n",
    "    l = [float(i) for i in re.findall('-?\\d{1,2}\\.\\d+',s)]\n",
    "    return {'type':'Point','coordinates': l[::-1]}\n"
   ]
  },
  {
   "cell_type": "code",
   "execution_count": 36,
   "metadata": {},
   "outputs": [],
   "source": [
    "pueblos = ['ADANERO','ALBORNOS','BASARDILLA','FORMARIZ','PINILLA_DE_FERMOSELLE','RINCONADA','SAN_BLAS','SAN_CIBRIÁN','TORRALBA_DEL_MORAL']\n",
    "for pueb in pueblos:\n",
    "    df_p = pd.read_csv(f'../Data/castilla_leon/{pueb}.csv', index_col=['Unnamed: 0']).reset_index(drop=True)\n",
    "    df_p.location = df_p.location.apply(corr_location)\n",
    "    for i in range(df_p.shape[0]):\n",
    "        diccio = dict(df_p.iloc[i])\n",
    "        # vamos a alterar este diccionario:\n",
    "        diccio['Pueblo_desde'] = pueb\n",
    "        to_insert = diccio\n",
    "        colec.insert_one(to_insert)"
   ]
  },
  {
   "cell_type": "code",
   "execution_count": null,
   "metadata": {},
   "outputs": [],
   "source": []
  }
 ],
 "metadata": {
  "interpreter": {
   "hash": "d00a1931e609772884d4e4263bd83cd526fe20ad88d0f2499e0ed4fd2f889d0e"
  },
  "kernelspec": {
   "display_name": "Python 3.8.12 ('ironhack')",
   "language": "python",
   "name": "python3"
  },
  "language_info": {
   "codemirror_mode": {
    "name": "ipython",
    "version": 3
   },
   "file_extension": ".py",
   "mimetype": "text/x-python",
   "name": "python",
   "nbconvert_exporter": "python",
   "pygments_lexer": "ipython3",
   "version": "3.8.12"
  },
  "orig_nbformat": 4
 },
 "nbformat": 4,
 "nbformat_minor": 2
}
