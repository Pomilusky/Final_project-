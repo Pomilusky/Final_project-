{
 "cells": [
  {
   "cell_type": "code",
   "execution_count": 1,
   "metadata": {},
   "outputs": [],
   "source": [
    "import pymongo\n",
    "import pandas as pd\n",
    "import numpy as np"
   ]
  },
  {
   "cell_type": "code",
   "execution_count": 2,
   "metadata": {},
   "outputs": [],
   "source": [
    "cliente=pymongo.MongoClient('mongodb://localhost:27017')  # cliente , la conexion por defecto\n",
    "db=cliente.EmptiedSpain   # llamada a la base de datos\n"
   ]
  },
  {
   "cell_type": "code",
   "execution_count": 4,
   "metadata": {},
   "outputs": [],
   "source": [
    "n_pueblo = 'ALBORNOS'\n",
    "info_pueblo=db.emptiedSpain.find({'Pueblo_desde':n_pueblo})"
   ]
  },
  {
   "cell_type": "code",
   "execution_count": 5,
   "metadata": {},
   "outputs": [],
   "source": [
    "df = pd.DataFrame(info_pueblo)"
   ]
  },
  {
   "cell_type": "code",
   "execution_count": 6,
   "metadata": {},
   "outputs": [],
   "source": [
    "def cleanNans(dic):\n",
    "    a = dic['coordinates']\n",
    "    if np.nan in a: \n",
    "        dic['coordinates'] = [0,0]\n",
    "    return dic"
   ]
  },
  {
   "cell_type": "code",
   "execution_count": 7,
   "metadata": {},
   "outputs": [],
   "source": [
    "df.location = df.location.apply(cleanNans)"
   ]
  },
  {
   "cell_type": "code",
   "execution_count": 8,
   "metadata": {},
   "outputs": [
    {
     "data": {
      "text/html": [
       "<div>\n",
       "<style scoped>\n",
       "    .dataframe tbody tr th:only-of-type {\n",
       "        vertical-align: middle;\n",
       "    }\n",
       "\n",
       "    .dataframe tbody tr th {\n",
       "        vertical-align: top;\n",
       "    }\n",
       "\n",
       "    .dataframe thead th {\n",
       "        text-align: right;\n",
       "    }\n",
       "</style>\n",
       "<table border=\"1\" class=\"dataframe\">\n",
       "  <thead>\n",
       "    <tr style=\"text-align: right;\">\n",
       "      <th></th>\n",
       "      <th>_id</th>\n",
       "      <th>nombre</th>\n",
       "      <th>location</th>\n",
       "      <th>distance</th>\n",
       "      <th>Entidad</th>\n",
       "      <th>Pueblo_desde</th>\n",
       "    </tr>\n",
       "  </thead>\n",
       "  <tbody>\n",
       "    <tr>\n",
       "      <th>0</th>\n",
       "      <td>62286aba268013b076d10a1d</td>\n",
       "      <td>Carrefour Express</td>\n",
       "      <td>{'type': 'Point', 'coordinates': [-3.6965673, ...</td>\n",
       "      <td>111.538560</td>\n",
       "      <td>supermercado</td>\n",
       "      <td>ALBORNOS</td>\n",
       "    </tr>\n",
       "    <tr>\n",
       "      <th>1</th>\n",
       "      <td>62286aba268013b076d10a1e</td>\n",
       "      <td>Carrefour Market</td>\n",
       "      <td>{'type': 'Point', 'coordinates': [-3.6945615, ...</td>\n",
       "      <td>111.579454</td>\n",
       "      <td>supermercado</td>\n",
       "      <td>ALBORNOS</td>\n",
       "    </tr>\n",
       "    <tr>\n",
       "      <th>2</th>\n",
       "      <td>62286aba268013b076d10a1f</td>\n",
       "      <td>Supermercados La Plaza de Dia</td>\n",
       "      <td>{'type': 'Point', 'coordinates': [-3.6931541, ...</td>\n",
       "      <td>111.745447</td>\n",
       "      <td>supermercado</td>\n",
       "      <td>ALBORNOS</td>\n",
       "    </tr>\n",
       "    <tr>\n",
       "      <th>3</th>\n",
       "      <td>62286aba268013b076d10a20</td>\n",
       "      <td>Condis</td>\n",
       "      <td>{'type': 'Point', 'coordinates': [-3.6865764, ...</td>\n",
       "      <td>112.091530</td>\n",
       "      <td>supermercado</td>\n",
       "      <td>ALBORNOS</td>\n",
       "    </tr>\n",
       "    <tr>\n",
       "      <th>4</th>\n",
       "      <td>62286aba268013b076d10a21</td>\n",
       "      <td>Supermercados La Plaza de Dia</td>\n",
       "      <td>{'type': 'Point', 'coordinates': [-3.690762, 4...</td>\n",
       "      <td>112.096348</td>\n",
       "      <td>supermercado</td>\n",
       "      <td>ALBORNOS</td>\n",
       "    </tr>\n",
       "  </tbody>\n",
       "</table>\n",
       "</div>"
      ],
      "text/plain": [
       "                        _id                         nombre  \\\n",
       "0  62286aba268013b076d10a1d              Carrefour Express   \n",
       "1  62286aba268013b076d10a1e               Carrefour Market   \n",
       "2  62286aba268013b076d10a1f  Supermercados La Plaza de Dia   \n",
       "3  62286aba268013b076d10a20                         Condis   \n",
       "4  62286aba268013b076d10a21  Supermercados La Plaza de Dia   \n",
       "\n",
       "                                            location    distance  \\\n",
       "0  {'type': 'Point', 'coordinates': [-3.6965673, ...  111.538560   \n",
       "1  {'type': 'Point', 'coordinates': [-3.6945615, ...  111.579454   \n",
       "2  {'type': 'Point', 'coordinates': [-3.6931541, ...  111.745447   \n",
       "3  {'type': 'Point', 'coordinates': [-3.6865764, ...  112.091530   \n",
       "4  {'type': 'Point', 'coordinates': [-3.690762, 4...  112.096348   \n",
       "\n",
       "        Entidad Pueblo_desde  \n",
       "0  supermercado     ALBORNOS  \n",
       "1  supermercado     ALBORNOS  \n",
       "2  supermercado     ALBORNOS  \n",
       "3  supermercado     ALBORNOS  \n",
       "4  supermercado     ALBORNOS  "
      ]
     },
     "execution_count": 8,
     "metadata": {},
     "output_type": "execute_result"
    }
   ],
   "source": [
    "df.head()"
   ]
  },
  {
   "cell_type": "code",
   "execution_count": 9,
   "metadata": {},
   "outputs": [
    {
     "data": {
      "text/plain": [
       "'location_2dsphere'"
      ]
     },
     "execution_count": 9,
     "metadata": {},
     "output_type": "execute_result"
    }
   ],
   "source": [
    "db.emptiedSpain.create_index([('location', '2dsphere')])\n"
   ]
  },
  {
   "cell_type": "code",
   "execution_count": 10,
   "metadata": {},
   "outputs": [],
   "source": [
    "def find_near(geopoint, radio=1000):\n",
    "    return db.emptiedSpain.find({'$and':[{'location':{\n",
    "        '$near': {'$geometry': geopoint, '$maxDistance':radio}\n",
    "    }},{'Entidad': 'Hospital'}]})"
   ]
  },
  {
   "cell_type": "code",
   "execution_count": 11,
   "metadata": {},
   "outputs": [],
   "source": [
    "pueblos=db.emptiedSpain.find({'Entidad': 'Entidad de población'})"
   ]
  },
  {
   "cell_type": "code",
   "execution_count": 12,
   "metadata": {},
   "outputs": [],
   "source": [
    "df_p = pd.DataFrame(pueblos)"
   ]
  },
  {
   "cell_type": "code",
   "execution_count": 13,
   "metadata": {},
   "outputs": [
    {
     "data": {
      "text/plain": [
       "_id                                                                       9249000100\n",
       "Comunidad Autónoma                                                   Castilla y León\n",
       "Provincia                                                                     Burgos\n",
       "Municipio                                                         Palazuelos de Muñó\n",
       "Entidad Singular de Población                                     PALAZUELOS DE MUÑÓ\n",
       "Cobertura ≥ 30Mbps                                                              0.74\n",
       "Cobertura redes fijas ≥ 100Mbps                                                  0.0\n",
       "Cobertura 3G HSPA                                                                1.0\n",
       "Cobertura 4G LTE                                                                 1.0\n",
       "Weather_info                       En Palazuelos de Muñó, los veranos son cortos,...\n",
       "pob_tot_muni                                                                   530.0\n",
       "partido_gov_x                                                                   PSOE\n",
       "population                                                             53 hab.(2021)\n",
       "T_minMedia                                                                        -0\n",
       "T_maxMedia                                                                        28\n",
       "T_minExtrema                                                                      -5\n",
       "T_maxExtrema                                                                      33\n",
       "location                           {'type': 'Point', 'coordinates': [-3.988333333...\n",
       "Entidad                                                         Entidad de población\n",
       "Name: 1050, dtype: object"
      ]
     },
     "execution_count": 13,
     "metadata": {},
     "output_type": "execute_result"
    }
   ],
   "source": [
    "i = 1050\n",
    "a = df_p.location[i]\n",
    "df_p.iloc[i]"
   ]
  },
  {
   "cell_type": "code",
   "execution_count": 149,
   "metadata": {},
   "outputs": [
    {
     "data": {
      "text/html": [
       "<div>\n",
       "<style scoped>\n",
       "    .dataframe tbody tr th:only-of-type {\n",
       "        vertical-align: middle;\n",
       "    }\n",
       "\n",
       "    .dataframe tbody tr th {\n",
       "        vertical-align: top;\n",
       "    }\n",
       "\n",
       "    .dataframe thead th {\n",
       "        text-align: right;\n",
       "    }\n",
       "</style>\n",
       "<table border=\"1\" class=\"dataframe\">\n",
       "  <thead>\n",
       "    <tr style=\"text-align: right;\">\n",
       "      <th></th>\n",
       "      <th>_id</th>\n",
       "      <th>NOMBRE</th>\n",
       "      <th>DIRECCION</th>\n",
       "      <th>TELEFONO</th>\n",
       "      <th>CODMU</th>\n",
       "      <th>MUNICIPIOS</th>\n",
       "      <th>CODPROV</th>\n",
       "      <th>PROVINCIAS</th>\n",
       "      <th>COMUNIDADES</th>\n",
       "      <th>CODPOSTAL</th>\n",
       "      <th>NCAMAS</th>\n",
       "      <th>FINALIDAD_ASISITENCIAL</th>\n",
       "      <th>DEPENDENCIA_PATRIMONIAL</th>\n",
       "      <th>location</th>\n",
       "      <th>Entidad</th>\n",
       "    </tr>\n",
       "  </thead>\n",
       "  <tbody>\n",
       "    <tr>\n",
       "      <th>0</th>\n",
       "      <td>420026.0</td>\n",
       "      <td>HOSPITAL VIRGEN DEL MIRÓN</td>\n",
       "      <td>CTRA. DE LOGROÑO, 8</td>\n",
       "      <td>975220850.0</td>\n",
       "      <td>421736.0</td>\n",
       "      <td>Soria</td>\n",
       "      <td>42.0</td>\n",
       "      <td>SORIA</td>\n",
       "      <td>CASTILLA Y LEÓN</td>\n",
       "      <td>42005.0</td>\n",
       "      <td>0.0</td>\n",
       "      <td>GERIATRÍA Y/O LARGA ESTANCIA</td>\n",
       "      <td>COMUNIDAD AUTÓNOMA</td>\n",
       "      <td>{'type': 'Point', 'coordinates': [-2.463960482...</td>\n",
       "      <td>Hospital</td>\n",
       "    </tr>\n",
       "    <tr>\n",
       "      <th>1</th>\n",
       "      <td>420011.0</td>\n",
       "      <td>HOSPITAL SANTA BÁRBARA</td>\n",
       "      <td>Pº SANTA BÁRBARA, S/N</td>\n",
       "      <td>975234300.0</td>\n",
       "      <td>421736.0</td>\n",
       "      <td>Soria</td>\n",
       "      <td>42.0</td>\n",
       "      <td>SORIA</td>\n",
       "      <td>CASTILLA Y LEÓN</td>\n",
       "      <td>42005.0</td>\n",
       "      <td>0.0</td>\n",
       "      <td>GENERAL</td>\n",
       "      <td>SEGURIDAD SOCIAL</td>\n",
       "      <td>{'type': 'Point', 'coordinates': [-2.471273765...</td>\n",
       "      <td>Hospital</td>\n",
       "    </tr>\n",
       "    <tr>\n",
       "      <th>2</th>\n",
       "      <td>420040.0</td>\n",
       "      <td>COMPLEJO ASISTENCIAL DE SORIA</td>\n",
       "      <td>Pº. STA. BÁRBARA, S/N</td>\n",
       "      <td>975234300.0</td>\n",
       "      <td>421736.0</td>\n",
       "      <td>Soria</td>\n",
       "      <td>42.0</td>\n",
       "      <td>SORIA</td>\n",
       "      <td>CASTILLA Y LEÓN</td>\n",
       "      <td>42005.0</td>\n",
       "      <td>319.0</td>\n",
       "      <td>GENERAL</td>\n",
       "      <td>ENTIDADES PÚBLICAS</td>\n",
       "      <td>{'type': 'Point', 'coordinates': [-2.472561225...</td>\n",
       "      <td>Hospital</td>\n",
       "    </tr>\n",
       "    <tr>\n",
       "      <th>3</th>\n",
       "      <td>90098.0</td>\n",
       "      <td>HOSPITAL SANTIAGO APÓSTOL</td>\n",
       "      <td>CTRA. DE ORÓN, S/N</td>\n",
       "      <td>947349000.0</td>\n",
       "      <td>92194.0</td>\n",
       "      <td>Miranda de Ebro</td>\n",
       "      <td>9.0</td>\n",
       "      <td>BURGOS</td>\n",
       "      <td>CASTILLA Y LEÓN</td>\n",
       "      <td>9200.0</td>\n",
       "      <td>114.0</td>\n",
       "      <td>GENERAL</td>\n",
       "      <td>SEGURIDAD SOCIAL</td>\n",
       "      <td>{'type': 'Point', 'coordinates': [-2.989475378...</td>\n",
       "      <td>Hospital</td>\n",
       "    </tr>\n",
       "  </tbody>\n",
       "</table>\n",
       "</div>"
      ],
      "text/plain": [
       "        _id                         NOMBRE              DIRECCION  \\\n",
       "0  420026.0      HOSPITAL VIRGEN DEL MIRÓN    CTRA. DE LOGROÑO, 8   \n",
       "1  420011.0         HOSPITAL SANTA BÁRBARA  Pº SANTA BÁRBARA, S/N   \n",
       "2  420040.0  COMPLEJO ASISTENCIAL DE SORIA  Pº. STA. BÁRBARA, S/N   \n",
       "3   90098.0      HOSPITAL SANTIAGO APÓSTOL     CTRA. DE ORÓN, S/N   \n",
       "\n",
       "      TELEFONO     CODMU       MUNICIPIOS  CODPROV PROVINCIAS  \\\n",
       "0  975220850.0  421736.0            Soria     42.0      SORIA   \n",
       "1  975234300.0  421736.0            Soria     42.0      SORIA   \n",
       "2  975234300.0  421736.0            Soria     42.0      SORIA   \n",
       "3  947349000.0   92194.0  Miranda de Ebro      9.0     BURGOS   \n",
       "\n",
       "       COMUNIDADES  CODPOSTAL  NCAMAS        FINALIDAD_ASISITENCIAL  \\\n",
       "0  CASTILLA Y LEÓN    42005.0     0.0  GERIATRÍA Y/O LARGA ESTANCIA   \n",
       "1  CASTILLA Y LEÓN    42005.0     0.0                       GENERAL   \n",
       "2  CASTILLA Y LEÓN    42005.0   319.0                       GENERAL   \n",
       "3  CASTILLA Y LEÓN     9200.0   114.0                       GENERAL   \n",
       "\n",
       "  DEPENDENCIA_PATRIMONIAL                                           location  \\\n",
       "0      COMUNIDAD AUTÓNOMA  {'type': 'Point', 'coordinates': [-2.463960482...   \n",
       "1        SEGURIDAD SOCIAL  {'type': 'Point', 'coordinates': [-2.471273765...   \n",
       "2      ENTIDADES PÚBLICAS  {'type': 'Point', 'coordinates': [-2.472561225...   \n",
       "3        SEGURIDAD SOCIAL  {'type': 'Point', 'coordinates': [-2.989475378...   \n",
       "\n",
       "    Entidad  \n",
       "0  Hospital  \n",
       "1  Hospital  \n",
       "2  Hospital  \n",
       "3  Hospital  "
      ]
     },
     "execution_count": 149,
     "metadata": {},
     "output_type": "execute_result"
    }
   ],
   "source": [
    "pd.DataFrame(find_near(a, radio=600000))"
   ]
  }
 ],
 "metadata": {
  "interpreter": {
   "hash": "d00a1931e609772884d4e4263bd83cd526fe20ad88d0f2499e0ed4fd2f889d0e"
  },
  "kernelspec": {
   "display_name": "Python 3.8.12 ('ironhack')",
   "language": "python",
   "name": "python3"
  },
  "language_info": {
   "codemirror_mode": {
    "name": "ipython",
    "version": 3
   },
   "file_extension": ".py",
   "mimetype": "text/x-python",
   "name": "python",
   "nbconvert_exporter": "python",
   "pygments_lexer": "ipython3",
   "version": "3.8.12"
  },
  "orig_nbformat": 4
 },
 "nbformat": 4,
 "nbformat_minor": 2
}
