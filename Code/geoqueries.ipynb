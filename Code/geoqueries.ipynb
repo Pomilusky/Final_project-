{
 "cells": [
  {
   "cell_type": "code",
   "execution_count": 54,
   "metadata": {},
   "outputs": [],
   "source": [
    "import pymongo\n",
    "import pandas as pd\n",
    "import numpy as np"
   ]
  },
  {
   "cell_type": "code",
   "execution_count": 55,
   "metadata": {},
   "outputs": [],
   "source": [
    "cliente=pymongo.MongoClient('mongodb://localhost:27017')  # cliente , la conexion por defecto\n",
    "db=cliente.EmptiedSpain   # llamada a la base de datos\n"
   ]
  },
  {
   "cell_type": "code",
   "execution_count": 56,
   "metadata": {},
   "outputs": [],
   "source": [
    "hospitales=db.emptiedSpain.find({'Entidad': 'Hospital'})"
   ]
  },
  {
   "cell_type": "code",
   "execution_count": 57,
   "metadata": {},
   "outputs": [],
   "source": [
    "df = pd.DataFrame(hospitales)"
   ]
  },
  {
   "cell_type": "code",
   "execution_count": 58,
   "metadata": {},
   "outputs": [],
   "source": [
    "def cleanNans(dic):\n",
    "    a = dic['coordinates']\n",
    "    if np.nan in a: \n",
    "        dic['coordinates'] = [0,0]\n",
    "    return dic"
   ]
  },
  {
   "cell_type": "code",
   "execution_count": 59,
   "metadata": {},
   "outputs": [],
   "source": [
    "df.location = df.location.apply(cleanNans)"
   ]
  },
  {
   "cell_type": "code",
   "execution_count": 60,
   "metadata": {},
   "outputs": [
    {
     "data": {
      "text/html": [
       "<div>\n",
       "<style scoped>\n",
       "    .dataframe tbody tr th:only-of-type {\n",
       "        vertical-align: middle;\n",
       "    }\n",
       "\n",
       "    .dataframe tbody tr th {\n",
       "        vertical-align: top;\n",
       "    }\n",
       "\n",
       "    .dataframe thead th {\n",
       "        text-align: right;\n",
       "    }\n",
       "</style>\n",
       "<table border=\"1\" class=\"dataframe\">\n",
       "  <thead>\n",
       "    <tr style=\"text-align: right;\">\n",
       "      <th></th>\n",
       "      <th>_id</th>\n",
       "      <th>NOMBRE</th>\n",
       "      <th>DIRECCION</th>\n",
       "      <th>TELEFONO</th>\n",
       "      <th>CODMU</th>\n",
       "      <th>MUNICIPIOS</th>\n",
       "      <th>CODPROV</th>\n",
       "      <th>PROVINCIAS</th>\n",
       "      <th>COMUNIDADES</th>\n",
       "      <th>CODPOSTAL</th>\n",
       "      <th>NCAMAS</th>\n",
       "      <th>FINALIDAD_ASISITENCIAL</th>\n",
       "      <th>DEPENDENCIA_PATRIMONIAL</th>\n",
       "      <th>location</th>\n",
       "      <th>Entidad</th>\n",
       "    </tr>\n",
       "  </thead>\n",
       "  <tbody>\n",
       "    <tr>\n",
       "      <th>0</th>\n",
       "      <td>50013.0</td>\n",
       "      <td>HOSPITAL NUESTRA SEÑORA DE SONSOLES</td>\n",
       "      <td>AV. JUAN CARLOS I, S/N</td>\n",
       "      <td>920358000.0</td>\n",
       "      <td>50198.0</td>\n",
       "      <td>Ávila</td>\n",
       "      <td>5.0</td>\n",
       "      <td>ÁVILA</td>\n",
       "      <td>CASTILLA Y LEÓN</td>\n",
       "      <td>5071.0</td>\n",
       "      <td>0.0</td>\n",
       "      <td>GENERAL</td>\n",
       "      <td>SEGURIDAD SOCIAL</td>\n",
       "      <td>{'type': 'Point', 'coordinates': [-4.666844434...</td>\n",
       "      <td>Hospital</td>\n",
       "    </tr>\n",
       "    <tr>\n",
       "      <th>1</th>\n",
       "      <td>50034.0</td>\n",
       "      <td>HOSPITAL PROVINCIAL DE ÁVILA</td>\n",
       "      <td>JESÚS DEL GRAN PODER, 42</td>\n",
       "      <td>920357200.0</td>\n",
       "      <td>50198.0</td>\n",
       "      <td>Ávila</td>\n",
       "      <td>5.0</td>\n",
       "      <td>ÁVILA</td>\n",
       "      <td>CASTILLA Y LEÓN</td>\n",
       "      <td>5003.0</td>\n",
       "      <td>0.0</td>\n",
       "      <td>GENERAL</td>\n",
       "      <td>COMUNIDAD AUTÓNOMA</td>\n",
       "      <td>{'type': 'Point', 'coordinates': [-4.692580594...</td>\n",
       "      <td>Hospital</td>\n",
       "    </tr>\n",
       "    <tr>\n",
       "      <th>2</th>\n",
       "      <td>50049.0</td>\n",
       "      <td>CLÍNICA SANTA TERESA</td>\n",
       "      <td>AV. SANTA CRUZ DE TENERIFE, 11</td>\n",
       "      <td>920252525.0</td>\n",
       "      <td>50198.0</td>\n",
       "      <td>Ávila</td>\n",
       "      <td>5.0</td>\n",
       "      <td>ÁVILA</td>\n",
       "      <td>CASTILLA Y LEÓN</td>\n",
       "      <td>5005.0</td>\n",
       "      <td>33.0</td>\n",
       "      <td>GENERAL</td>\n",
       "      <td>PRIVADO NO BENÉFICO</td>\n",
       "      <td>{'type': 'Point', 'coordinates': [-4.686130078...</td>\n",
       "      <td>Hospital</td>\n",
       "    </tr>\n",
       "    <tr>\n",
       "      <th>3</th>\n",
       "      <td>50061.0</td>\n",
       "      <td>COMPLEJO ASISTENCIAL DE AVILA</td>\n",
       "      <td>AVDA. JUAN CARLOS I, S/N</td>\n",
       "      <td>920358000.0</td>\n",
       "      <td>50198.0</td>\n",
       "      <td>Ávila</td>\n",
       "      <td>5.0</td>\n",
       "      <td>ÁVILA</td>\n",
       "      <td>CASTILLA Y LEÓN</td>\n",
       "      <td>5071.0</td>\n",
       "      <td>430.0</td>\n",
       "      <td>GENERAL</td>\n",
       "      <td>ENTIDADES PÚBLICAS</td>\n",
       "      <td>{'type': 'Point', 'coordinates': [-4.652362102...</td>\n",
       "      <td>Hospital</td>\n",
       "    </tr>\n",
       "    <tr>\n",
       "      <th>4</th>\n",
       "      <td>50072.0</td>\n",
       "      <td>HOSPITAL DE SALUD MENTAL CASTA SALUD ARÉVALO</td>\n",
       "      <td>PASEO SAN JUAN BOSCO, 2</td>\n",
       "      <td>920301400.0</td>\n",
       "      <td>50163.0</td>\n",
       "      <td>Arévalo</td>\n",
       "      <td>5.0</td>\n",
       "      <td>ÁVILA</td>\n",
       "      <td>CASTILLA Y LEÓN</td>\n",
       "      <td>5200.0</td>\n",
       "      <td>80.0</td>\n",
       "      <td>PSIQUIÁTRICO</td>\n",
       "      <td>PRIVADO NO BENÉFICO</td>\n",
       "      <td>{'type': 'Point', 'coordinates': [-4.716772079...</td>\n",
       "      <td>Hospital</td>\n",
       "    </tr>\n",
       "  </tbody>\n",
       "</table>\n",
       "</div>"
      ],
      "text/plain": [
       "       _id                                        NOMBRE  \\\n",
       "0  50013.0           HOSPITAL NUESTRA SEÑORA DE SONSOLES   \n",
       "1  50034.0                  HOSPITAL PROVINCIAL DE ÁVILA   \n",
       "2  50049.0                          CLÍNICA SANTA TERESA   \n",
       "3  50061.0                 COMPLEJO ASISTENCIAL DE AVILA   \n",
       "4  50072.0  HOSPITAL DE SALUD MENTAL CASTA SALUD ARÉVALO   \n",
       "\n",
       "                        DIRECCION     TELEFONO    CODMU MUNICIPIOS  CODPROV  \\\n",
       "0          AV. JUAN CARLOS I, S/N  920358000.0  50198.0      Ávila      5.0   \n",
       "1        JESÚS DEL GRAN PODER, 42  920357200.0  50198.0      Ávila      5.0   \n",
       "2  AV. SANTA CRUZ DE TENERIFE, 11  920252525.0  50198.0      Ávila      5.0   \n",
       "3        AVDA. JUAN CARLOS I, S/N  920358000.0  50198.0      Ávila      5.0   \n",
       "4         PASEO SAN JUAN BOSCO, 2  920301400.0  50163.0    Arévalo      5.0   \n",
       "\n",
       "  PROVINCIAS      COMUNIDADES  CODPOSTAL  NCAMAS FINALIDAD_ASISITENCIAL  \\\n",
       "0      ÁVILA  CASTILLA Y LEÓN     5071.0     0.0                GENERAL   \n",
       "1      ÁVILA  CASTILLA Y LEÓN     5003.0     0.0                GENERAL   \n",
       "2      ÁVILA  CASTILLA Y LEÓN     5005.0    33.0                GENERAL   \n",
       "3      ÁVILA  CASTILLA Y LEÓN     5071.0   430.0                GENERAL   \n",
       "4      ÁVILA  CASTILLA Y LEÓN     5200.0    80.0           PSIQUIÁTRICO   \n",
       "\n",
       "  DEPENDENCIA_PATRIMONIAL                                           location  \\\n",
       "0        SEGURIDAD SOCIAL  {'type': 'Point', 'coordinates': [-4.666844434...   \n",
       "1      COMUNIDAD AUTÓNOMA  {'type': 'Point', 'coordinates': [-4.692580594...   \n",
       "2     PRIVADO NO BENÉFICO  {'type': 'Point', 'coordinates': [-4.686130078...   \n",
       "3      ENTIDADES PÚBLICAS  {'type': 'Point', 'coordinates': [-4.652362102...   \n",
       "4     PRIVADO NO BENÉFICO  {'type': 'Point', 'coordinates': [-4.716772079...   \n",
       "\n",
       "    Entidad  \n",
       "0  Hospital  \n",
       "1  Hospital  \n",
       "2  Hospital  \n",
       "3  Hospital  \n",
       "4  Hospital  "
      ]
     },
     "execution_count": 60,
     "metadata": {},
     "output_type": "execute_result"
    }
   ],
   "source": [
    "df.head()"
   ]
  },
  {
   "cell_type": "code",
   "execution_count": 61,
   "metadata": {},
   "outputs": [
    {
     "data": {
      "text/plain": [
       "'location_2dsphere'"
      ]
     },
     "execution_count": 61,
     "metadata": {},
     "output_type": "execute_result"
    }
   ],
   "source": [
    "db.emptiedSpain.create_index([('location', '2dsphere')])\n"
   ]
  },
  {
   "cell_type": "code",
   "execution_count": 95,
   "metadata": {},
   "outputs": [],
   "source": [
    "def find_near(geopoint, radio=1000):\n",
    "    return db.emptiedSpain.find({'$and':[{'location':{\n",
    "        '$near': {'$geometry': geopoint, '$maxDistance':radio}\n",
    "    }},{'Entidad': 'Hospital'}]})"
   ]
  },
  {
   "cell_type": "code",
   "execution_count": 96,
   "metadata": {},
   "outputs": [],
   "source": [
    "pueblos=db.emptiedSpain.find({'Entidad': 'Entidad de población'})"
   ]
  },
  {
   "cell_type": "code",
   "execution_count": 97,
   "metadata": {},
   "outputs": [],
   "source": [
    "df_p = pd.DataFrame(pueblos)"
   ]
  },
  {
   "cell_type": "code",
   "execution_count": 146,
   "metadata": {},
   "outputs": [
    {
     "data": {
      "text/plain": [
       "_id                                                                       9249000100\n",
       "Comunidad Autónoma                                                   Castilla y León\n",
       "Provincia                                                                     Burgos\n",
       "Municipio                                                         Palazuelos de Muñó\n",
       "Entidad Singular de Población                                     PALAZUELOS DE MUÑÓ\n",
       "Cobertura ≥ 30Mbps                                                              0.74\n",
       "Cobertura redes fijas ≥ 100Mbps                                                  0.0\n",
       "Cobertura 3G HSPA                                                                1.0\n",
       "Cobertura 4G LTE                                                                 1.0\n",
       "Weather_info                       En Palazuelos de Muñó, los veranos son cortos,...\n",
       "pob_tot_muni                                                                   530.0\n",
       "partido_gov                                                                     PSOE\n",
       "T_minMedia                                                                        -0\n",
       "T_maxMedia                                                                        28\n",
       "T_minExtrema                                                                      -5\n",
       "T_maxExtrema                                                                      33\n",
       "location                           {'type': 'Point', 'coordinates': [3.9883333333...\n",
       "Entidad                                                         Entidad de población\n",
       "Name: 1050, dtype: object"
      ]
     },
     "execution_count": 146,
     "metadata": {},
     "output_type": "execute_result"
    }
   ],
   "source": [
    "i = 1050\n",
    "a = df_p.location[i]\n",
    "df_p.iloc[i]"
   ]
  },
  {
   "cell_type": "code",
   "execution_count": null,
   "metadata": {},
   "outputs": [],
   "source": []
  },
  {
   "cell_type": "code",
   "execution_count": 147,
   "metadata": {},
   "outputs": [
    {
     "data": {
      "text/plain": [
       "{'type': 'Point', 'coordinates': [3.9883333333333, 42.196388888889]}"
      ]
     },
     "execution_count": 147,
     "metadata": {},
     "output_type": "execute_result"
    }
   ],
   "source": [
    "a"
   ]
  },
  {
   "cell_type": "code",
   "execution_count": 149,
   "metadata": {},
   "outputs": [
    {
     "data": {
      "text/html": [
       "<div>\n",
       "<style scoped>\n",
       "    .dataframe tbody tr th:only-of-type {\n",
       "        vertical-align: middle;\n",
       "    }\n",
       "\n",
       "    .dataframe tbody tr th {\n",
       "        vertical-align: top;\n",
       "    }\n",
       "\n",
       "    .dataframe thead th {\n",
       "        text-align: right;\n",
       "    }\n",
       "</style>\n",
       "<table border=\"1\" class=\"dataframe\">\n",
       "  <thead>\n",
       "    <tr style=\"text-align: right;\">\n",
       "      <th></th>\n",
       "      <th>_id</th>\n",
       "      <th>NOMBRE</th>\n",
       "      <th>DIRECCION</th>\n",
       "      <th>TELEFONO</th>\n",
       "      <th>CODMU</th>\n",
       "      <th>MUNICIPIOS</th>\n",
       "      <th>CODPROV</th>\n",
       "      <th>PROVINCIAS</th>\n",
       "      <th>COMUNIDADES</th>\n",
       "      <th>CODPOSTAL</th>\n",
       "      <th>NCAMAS</th>\n",
       "      <th>FINALIDAD_ASISITENCIAL</th>\n",
       "      <th>DEPENDENCIA_PATRIMONIAL</th>\n",
       "      <th>location</th>\n",
       "      <th>Entidad</th>\n",
       "    </tr>\n",
       "  </thead>\n",
       "  <tbody>\n",
       "    <tr>\n",
       "      <th>0</th>\n",
       "      <td>420026.0</td>\n",
       "      <td>HOSPITAL VIRGEN DEL MIRÓN</td>\n",
       "      <td>CTRA. DE LOGROÑO, 8</td>\n",
       "      <td>975220850.0</td>\n",
       "      <td>421736.0</td>\n",
       "      <td>Soria</td>\n",
       "      <td>42.0</td>\n",
       "      <td>SORIA</td>\n",
       "      <td>CASTILLA Y LEÓN</td>\n",
       "      <td>42005.0</td>\n",
       "      <td>0.0</td>\n",
       "      <td>GERIATRÍA Y/O LARGA ESTANCIA</td>\n",
       "      <td>COMUNIDAD AUTÓNOMA</td>\n",
       "      <td>{'type': 'Point', 'coordinates': [-2.463960482...</td>\n",
       "      <td>Hospital</td>\n",
       "    </tr>\n",
       "    <tr>\n",
       "      <th>1</th>\n",
       "      <td>420011.0</td>\n",
       "      <td>HOSPITAL SANTA BÁRBARA</td>\n",
       "      <td>Pº SANTA BÁRBARA, S/N</td>\n",
       "      <td>975234300.0</td>\n",
       "      <td>421736.0</td>\n",
       "      <td>Soria</td>\n",
       "      <td>42.0</td>\n",
       "      <td>SORIA</td>\n",
       "      <td>CASTILLA Y LEÓN</td>\n",
       "      <td>42005.0</td>\n",
       "      <td>0.0</td>\n",
       "      <td>GENERAL</td>\n",
       "      <td>SEGURIDAD SOCIAL</td>\n",
       "      <td>{'type': 'Point', 'coordinates': [-2.471273765...</td>\n",
       "      <td>Hospital</td>\n",
       "    </tr>\n",
       "    <tr>\n",
       "      <th>2</th>\n",
       "      <td>420040.0</td>\n",
       "      <td>COMPLEJO ASISTENCIAL DE SORIA</td>\n",
       "      <td>Pº. STA. BÁRBARA, S/N</td>\n",
       "      <td>975234300.0</td>\n",
       "      <td>421736.0</td>\n",
       "      <td>Soria</td>\n",
       "      <td>42.0</td>\n",
       "      <td>SORIA</td>\n",
       "      <td>CASTILLA Y LEÓN</td>\n",
       "      <td>42005.0</td>\n",
       "      <td>319.0</td>\n",
       "      <td>GENERAL</td>\n",
       "      <td>ENTIDADES PÚBLICAS</td>\n",
       "      <td>{'type': 'Point', 'coordinates': [-2.472561225...</td>\n",
       "      <td>Hospital</td>\n",
       "    </tr>\n",
       "    <tr>\n",
       "      <th>3</th>\n",
       "      <td>90098.0</td>\n",
       "      <td>HOSPITAL SANTIAGO APÓSTOL</td>\n",
       "      <td>CTRA. DE ORÓN, S/N</td>\n",
       "      <td>947349000.0</td>\n",
       "      <td>92194.0</td>\n",
       "      <td>Miranda de Ebro</td>\n",
       "      <td>9.0</td>\n",
       "      <td>BURGOS</td>\n",
       "      <td>CASTILLA Y LEÓN</td>\n",
       "      <td>9200.0</td>\n",
       "      <td>114.0</td>\n",
       "      <td>GENERAL</td>\n",
       "      <td>SEGURIDAD SOCIAL</td>\n",
       "      <td>{'type': 'Point', 'coordinates': [-2.989475378...</td>\n",
       "      <td>Hospital</td>\n",
       "    </tr>\n",
       "  </tbody>\n",
       "</table>\n",
       "</div>"
      ],
      "text/plain": [
       "        _id                         NOMBRE              DIRECCION  \\\n",
       "0  420026.0      HOSPITAL VIRGEN DEL MIRÓN    CTRA. DE LOGROÑO, 8   \n",
       "1  420011.0         HOSPITAL SANTA BÁRBARA  Pº SANTA BÁRBARA, S/N   \n",
       "2  420040.0  COMPLEJO ASISTENCIAL DE SORIA  Pº. STA. BÁRBARA, S/N   \n",
       "3   90098.0      HOSPITAL SANTIAGO APÓSTOL     CTRA. DE ORÓN, S/N   \n",
       "\n",
       "      TELEFONO     CODMU       MUNICIPIOS  CODPROV PROVINCIAS  \\\n",
       "0  975220850.0  421736.0            Soria     42.0      SORIA   \n",
       "1  975234300.0  421736.0            Soria     42.0      SORIA   \n",
       "2  975234300.0  421736.0            Soria     42.0      SORIA   \n",
       "3  947349000.0   92194.0  Miranda de Ebro      9.0     BURGOS   \n",
       "\n",
       "       COMUNIDADES  CODPOSTAL  NCAMAS        FINALIDAD_ASISITENCIAL  \\\n",
       "0  CASTILLA Y LEÓN    42005.0     0.0  GERIATRÍA Y/O LARGA ESTANCIA   \n",
       "1  CASTILLA Y LEÓN    42005.0     0.0                       GENERAL   \n",
       "2  CASTILLA Y LEÓN    42005.0   319.0                       GENERAL   \n",
       "3  CASTILLA Y LEÓN     9200.0   114.0                       GENERAL   \n",
       "\n",
       "  DEPENDENCIA_PATRIMONIAL                                           location  \\\n",
       "0      COMUNIDAD AUTÓNOMA  {'type': 'Point', 'coordinates': [-2.463960482...   \n",
       "1        SEGURIDAD SOCIAL  {'type': 'Point', 'coordinates': [-2.471273765...   \n",
       "2      ENTIDADES PÚBLICAS  {'type': 'Point', 'coordinates': [-2.472561225...   \n",
       "3        SEGURIDAD SOCIAL  {'type': 'Point', 'coordinates': [-2.989475378...   \n",
       "\n",
       "    Entidad  \n",
       "0  Hospital  \n",
       "1  Hospital  \n",
       "2  Hospital  \n",
       "3  Hospital  "
      ]
     },
     "execution_count": 149,
     "metadata": {},
     "output_type": "execute_result"
    }
   ],
   "source": [
    "pd.DataFrame(find_near(a, radio=600000))"
   ]
  },
  {
   "cell_type": "code",
   "execution_count": null,
   "metadata": {},
   "outputs": [],
   "source": []
  }
 ],
 "metadata": {
  "interpreter": {
   "hash": "d00a1931e609772884d4e4263bd83cd526fe20ad88d0f2499e0ed4fd2f889d0e"
  },
  "kernelspec": {
   "display_name": "Python 3.8.12 ('ironhack')",
   "language": "python",
   "name": "python3"
  },
  "language_info": {
   "codemirror_mode": {
    "name": "ipython",
    "version": 3
   },
   "file_extension": ".py",
   "mimetype": "text/x-python",
   "name": "python",
   "nbconvert_exporter": "python",
   "pygments_lexer": "ipython3",
   "version": "3.8.12"
  },
  "orig_nbformat": 4
 },
 "nbformat": 4,
 "nbformat_minor": 2
}
