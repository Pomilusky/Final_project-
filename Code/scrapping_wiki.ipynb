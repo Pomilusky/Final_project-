{
 "cells": [
  {
   "cell_type": "code",
   "execution_count": 1,
   "metadata": {},
   "outputs": [],
   "source": [
    "import selenium \n",
    "import pandas as pd\n",
    "import requests\n",
    "from bs4 import BeautifulSoup\n",
    "import numpy as np"
   ]
  },
  {
   "cell_type": "code",
   "execution_count": 2,
   "metadata": {},
   "outputs": [],
   "source": [
    "def cleaning_partidos(s):\n",
    "    s.replace(\" ' \",'')\n",
    "    if ')' in s: s = s.split(')')[0]\n",
    "    if 'Partido Popular'==s: s = 'PP'\n",
    "    if \"C's\"== s: s = 'Cs'\n",
    "    return s\n",
    "\n",
    "def scrap_wiki(nombre_pueblo, provincia='Burgos'):\n",
    "    try:\n",
    "        URL = f\"https://es.wikipedia.org/wiki/{nombre_pueblo.replace(' ','_')}\"\n",
    "        r = requests.get(URL)\n",
    "        #print(r)\n",
    "        #print(URL)\n",
    "        soup = BeautifulSoup(r.content, 'lxml') \n",
    "        bodies = soup.findAll('tbody')\n",
    "        a = False\n",
    "        for e in bodies:\n",
    "            if 'Alcalde' in e.text:\n",
    "                r_tabla = e.findAll('tr')\n",
    "                a=True\n",
    "        if not a: \n",
    "            URL = f\"https://es.wikipedia.org/wiki/{nombre_pueblo.replace(' ','_')}_({provincia})\"\n",
    "            r = requests.get(URL)\n",
    "            soup = BeautifulSoup(r.content, 'lxml') \n",
    "            bodies = soup.findAll('tbody')\n",
    "            for e in bodies:\n",
    "                if 'Alcalde' in e.text:\n",
    "                    r_tabla = e.findAll('tr')\n",
    "                    a=True\n",
    "        if not a: \n",
    "            URL = f\"https://es.wikipedia.org/wiki/{nombre_pueblo.replace(' ','_')}_(España)\"\n",
    "            r = requests.get(URL)\n",
    "            soup = BeautifulSoup(r.content, 'lxml') \n",
    "            bodies = soup.findAll('tbody')\n",
    "            for e in bodies:\n",
    "                if 'Alcalde' in e.text:\n",
    "                    r_tabla = e.findAll('tr')\n",
    "                    a=True\n",
    "\n",
    "        for i in r_tabla:\n",
    "            if 'Alcalde' in i.text:\n",
    "                alcalde = list(i)[1].text.strip('\\n')\n",
    "                if '(' in alcalde:\n",
    "                    lli = alcalde.split('(')\n",
    "                    alcalde = lli[0].strip()\n",
    "                    partido_pol = lli[1].strip(')')\n",
    "          \n",
    "        return cleaning_partidos(partido_pol)\n",
    "    except:\n",
    "        print(nombre_pueblo)\n",
    "        return np.nan"
   ]
  },
  {
   "cell_type": "code",
   "execution_count": 31,
   "metadata": {},
   "outputs": [],
   "source": [
    "# como la idea es crearnos un dataset con todos los nombres de pueblos a estudiar vamos a proceder a \n",
    "# crear una serie de funciones que nos haga todo el proceso,\n",
    "def cambio_nombre(s):\n",
    "    if ',' in s:\n",
    "        lli = [i.strip() for i in s.split(',')]\n",
    "        return lli[1]+' '+lli[0]\n",
    "    else: return s\n",
    "    \n",
    "def lectura_csv(name, sepa=';'):\n",
    "    path = f'../Data/castilla_leon/poblacion/{name}.csv'\n",
    "    df = pd.read_csv(path,sep=sepa)\n",
    "    provincia = df.Municipios[0][2:].strip()\n",
    "    df = df[(df['Periodo']==2021)&(df['Sexo']=='Total')].reset_index(drop=True)[1:]\n",
    "    df['CP'] = df.Municipios.apply(lambda x: x[:5].strip())\n",
    "    df.Municipios = df.Municipios.apply(lambda x: x[5:].strip())\n",
    "    df.drop(columns=['Sexo', 'Periodo'], inplace=True)\n",
    "    df.Municipios = df.Municipios.apply(cambio_nombre)\n",
    "    df.Total = df.Total.apply(lambda x: int(str(x).replace('.','')))\n",
    "    df['Provincia'] = provincia\n",
    "    return provincia, df"
   ]
  },
  {
   "cell_type": "code",
   "execution_count": 32,
   "metadata": {},
   "outputs": [],
   "source": [
    "prov, df = lectura_csv('2904',sepa='\\t')"
   ]
  },
  {
   "cell_type": "code",
   "execution_count": 33,
   "metadata": {},
   "outputs": [
    {
     "name": "stdout",
     "output_type": "stream",
     "text": [
      "Cistérniga\n",
      "Melgar de Abajo\n",
      "San Salvador\n",
      "Valdestillas\n"
     ]
    }
   ],
   "source": [
    "df['new_col'] = df.Municipios.apply(scrap_wiki, args=[prov])"
   ]
  },
  {
   "cell_type": "code",
   "execution_count": 22,
   "metadata": {},
   "outputs": [
    {
     "data": {
      "text/plain": [
       "'Soria'"
      ]
     },
     "execution_count": 22,
     "metadata": {},
     "output_type": "execute_result"
    }
   ],
   "source": [
    "# # Para palencia\n",
    "# diccio_alc = {'Autillo de Campos': 'PP','Carrión de los Condes':'Cs',\n",
    "# 'Dueñas':'PSOE', 'Lomas':'PP','Valderrábano':'PP' }\n",
    "\n",
    "# for k,v in diccio_alc.items():\n",
    "#     df.loc[df.Municipios == k, 'new_col'] = v\n",
    "prov"
   ]
  },
  {
   "cell_type": "code",
   "execution_count": 34,
   "metadata": {},
   "outputs": [],
   "source": [
    "# # Para Salamanca\n",
    "# diccio_alc = {'Garcibuey': 'PP','Negrilla de Palencia':'Cs',\n",
    "# 'San Cristóbal de la Cuesta':'Cs', 'Saucelle':'PP'}\n",
    "\n",
    "# for k,v in diccio_alc.items():\n",
    "#     df.loc[df.Municipios == k, 'new_col'] = v\n",
    "# # Para Segovia\n",
    "# diccio_alc = {'Grajera': 'PSOE'}\n",
    "\n",
    "# for k,v in diccio_alc.items():\n",
    "#     df.loc[df.Municipios == k, 'new_col'] = v\n",
    "# # Para Soria\n",
    "# diccio_alc = {'Blacos': 'Cs','San Esteban de Gormaz':'PSOE'}\n",
    "\n",
    "# for k,v in diccio_alc.items():\n",
    "#     df.loc[df.Municipios == k, 'new_col'] = v\n",
    "\n",
    "# Para valladolid\n",
    "diccio_alc = {'Cistérniga': 'PSOE','Melgar de Abajo':'JPM','San Salvador':'PP','Valdestillas':'No Adscrito'}\n",
    "\n",
    "for k,v in diccio_alc.items():\n",
    "    df.loc[df.Municipios == k, 'new_col'] = v"
   ]
  },
  {
   "cell_type": "code",
   "execution_count": 35,
   "metadata": {},
   "outputs": [],
   "source": [
    "c_autonoma = 'castilla_leon'\n",
    "#df.to_csv(f'../Data/{c_autonoma}/ParaBD/{prov}.csv')\n",
    "df.to_csv(f'../Data/{c_autonoma}/ParaBD/{prov}.csv', mode='w', header=False)"
   ]
  },
  {
   "cell_type": "code",
   "execution_count": 9,
   "metadata": {},
   "outputs": [
    {
     "data": {
      "text/html": [
       "<div>\n",
       "<style scoped>\n",
       "    .dataframe tbody tr th:only-of-type {\n",
       "        vertical-align: middle;\n",
       "    }\n",
       "\n",
       "    .dataframe tbody tr th {\n",
       "        vertical-align: top;\n",
       "    }\n",
       "\n",
       "    .dataframe thead th {\n",
       "        text-align: right;\n",
       "    }\n",
       "</style>\n",
       "<table border=\"1\" class=\"dataframe\">\n",
       "  <thead>\n",
       "    <tr style=\"text-align: right;\">\n",
       "      <th></th>\n",
       "      <th>Municipios</th>\n",
       "      <th>Total</th>\n",
       "      <th>CP</th>\n",
       "      <th>Provincia</th>\n",
       "      <th>new_col</th>\n",
       "    </tr>\n",
       "  </thead>\n",
       "  <tbody>\n",
       "    <tr>\n",
       "      <th>1</th>\n",
       "      <td>Abarca de Campos</td>\n",
       "      <td>450</td>\n",
       "      <td>34001</td>\n",
       "      <td>Palencia</td>\n",
       "      <td>PP</td>\n",
       "    </tr>\n",
       "    <tr>\n",
       "      <th>2</th>\n",
       "      <td>Abia de las Torres</td>\n",
       "      <td>1670</td>\n",
       "      <td>34003</td>\n",
       "      <td>Palencia</td>\n",
       "      <td>PP</td>\n",
       "    </tr>\n",
       "    <tr>\n",
       "      <th>3</th>\n",
       "      <td>Aguilar de Campoo</td>\n",
       "      <td>6711</td>\n",
       "      <td>34004</td>\n",
       "      <td>Palencia</td>\n",
       "      <td>PP</td>\n",
       "    </tr>\n",
       "    <tr>\n",
       "      <th>4</th>\n",
       "      <td>Alar del Rey</td>\n",
       "      <td>9080</td>\n",
       "      <td>34005</td>\n",
       "      <td>Palencia</td>\n",
       "      <td>Cs</td>\n",
       "    </tr>\n",
       "    <tr>\n",
       "      <th>5</th>\n",
       "      <td>Alba de Cerrato</td>\n",
       "      <td>830</td>\n",
       "      <td>34006</td>\n",
       "      <td>Palencia</td>\n",
       "      <td>PP</td>\n",
       "    </tr>\n",
       "  </tbody>\n",
       "</table>\n",
       "</div>"
      ],
      "text/plain": [
       "           Municipios  Total     CP Provincia new_col\n",
       "1    Abarca de Campos    450  34001  Palencia      PP\n",
       "2  Abia de las Torres   1670  34003  Palencia      PP\n",
       "3   Aguilar de Campoo   6711  34004  Palencia      PP\n",
       "4        Alar del Rey   9080  34005  Palencia      Cs\n",
       "5     Alba de Cerrato    830  34006  Palencia      PP"
      ]
     },
     "execution_count": 9,
     "metadata": {},
     "output_type": "execute_result"
    }
   ],
   "source": [
    "df.head()"
   ]
  },
  {
   "cell_type": "code",
   "execution_count": null,
   "metadata": {},
   "outputs": [],
   "source": []
  }
 ],
 "metadata": {
  "interpreter": {
   "hash": "d00a1931e609772884d4e4263bd83cd526fe20ad88d0f2499e0ed4fd2f889d0e"
  },
  "kernelspec": {
   "display_name": "Python 3.8.12 ('ironhack')",
   "language": "python",
   "name": "python3"
  },
  "language_info": {
   "codemirror_mode": {
    "name": "ipython",
    "version": 3
   },
   "file_extension": ".py",
   "mimetype": "text/x-python",
   "name": "python",
   "nbconvert_exporter": "python",
   "pygments_lexer": "ipython3",
   "version": "3.8.12"
  },
  "orig_nbformat": 4
 },
 "nbformat": 4,
 "nbformat_minor": 2
}
