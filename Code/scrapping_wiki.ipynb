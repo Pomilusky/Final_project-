{
 "cells": [
  {
   "cell_type": "code",
   "execution_count": 1,
   "metadata": {},
   "outputs": [],
   "source": [
    "import selenium \n",
    "import pandas as pd\n",
    "import requests\n",
    "from bs4 import BeautifulSoup\n",
    "import numpy as np"
   ]
  },
  {
   "cell_type": "code",
   "execution_count": 2,
   "metadata": {},
   "outputs": [],
   "source": [
    "df = pd.read_csv('../Data/castilla_leon/poblacion/2862.csv',sep=';')"
   ]
  },
  {
   "cell_type": "code",
   "execution_count": 3,
   "metadata": {},
   "outputs": [],
   "source": [
    "df = df[(df['Periodo']==2021)&(df['Sexo']=='Total')].reset_index(drop=True)[1:]"
   ]
  },
  {
   "cell_type": "code",
   "execution_count": 4,
   "metadata": {},
   "outputs": [],
   "source": [
    "df.Municipios = df.Municipios.apply(lambda x: x[5:].strip())"
   ]
  },
  {
   "cell_type": "code",
   "execution_count": 5,
   "metadata": {},
   "outputs": [],
   "source": [
    "def cambio_nombro(s):\n",
    "    if ',' in s:\n",
    "        lli = [i.strip() for i in s.split(',')]\n",
    "        return lli[1]+' '+lli[0]\n",
    "    else: return s"
   ]
  },
  {
   "cell_type": "code",
   "execution_count": 6,
   "metadata": {},
   "outputs": [],
   "source": [
    "df.Municipios = df.Municipios.apply(cambio_nombro)"
   ]
  },
  {
   "cell_type": "code",
   "execution_count": 7,
   "metadata": {},
   "outputs": [
    {
     "data": {
      "text/plain": [
       "(371, 4)"
      ]
     },
     "execution_count": 7,
     "metadata": {},
     "output_type": "execute_result"
    }
   ],
   "source": [
    "df.shape"
   ]
  },
  {
   "cell_type": "code",
   "execution_count": 8,
   "metadata": {},
   "outputs": [],
   "source": [
    "def scrap_wiki(nombre_pueblo, provincia='Burgos'):\n",
    "    try:\n",
    "        URL = f\"https://es.wikipedia.org/wiki/{nombre_pueblo.replace(' ','_')}\"\n",
    "        r = requests.get(URL)\n",
    "        print(r)\n",
    "        #print(URL)\n",
    "        soup = BeautifulSoup(r.content, 'lxml') # If this line causes an error, run 'pip install html5lib' or install html5lib\n",
    "        bodies = soup.findAll('tbody')\n",
    "        for e in bodies:\n",
    "            if 'Alcalde' in e.text:\n",
    "                r_tabla = e.findAll('tr')\n",
    "        #print(r_tabla)\n",
    "        for i in r_tabla:\n",
    "            if 'Alcalde' in i.text:\n",
    "                alcalde = list(i)[1].text.strip('\\n')\n",
    "                if '(' in alcalde:\n",
    "                    lli = alcalde.split('(')\n",
    "                    alcalde = lli[0].strip()\n",
    "                    partido_pol = lli[1].strip(')')\n",
    "        return alcalde, partido_pol\n",
    "    except:\n",
    "        print(nombre_pueblo)\n",
    "        return np.nan, np.nan"
   ]
  },
  {
   "cell_type": "code",
   "execution_count": 48,
   "metadata": {},
   "outputs": [
    {
     "name": "stdout",
     "output_type": "stream",
     "text": [
      "Arandilla\n"
     ]
    },
    {
     "data": {
      "text/plain": [
       "(nan, nan)"
      ]
     },
     "execution_count": 48,
     "metadata": {},
     "output_type": "execute_result"
    }
   ],
   "source": [
    "scrap_wiki('Arandilla')"
   ]
  },
  {
   "cell_type": "code",
   "execution_count": 46,
   "metadata": {},
   "outputs": [
    {
     "name": "stdout",
     "output_type": "stream",
     "text": [
      "Los Altos\n",
      "Arandilla\n",
      "Arcos\n",
      "Arlanzón\n",
      "Atapuerca\n",
      "Baños de Valdearados\n",
      "Carazo\n",
      "Cavia\n",
      "Frías\n",
      "La Gallega\n",
      "Grijalba\n",
      "Haza\n",
      "Hontanas\n",
      "Iglesias\n",
      "Lerma\n",
      "Milagros\n",
      "Quintanilla Vivar\n",
      "Las Quintanillas\n",
      "Rábanos\n",
      "Rabé de las Calzadas\n",
      "Retuerta\n",
      "Rojas\n",
      "Rucandio\n",
      "San Juan del Monte\n",
      "Santa Cecilia\n",
      "Santa Inés\n",
      "Santo Domingo de Silos\n",
      "Tejada\n",
      "Valmala\n",
      "Villafruela\n",
      "Villegas\n"
     ]
    }
   ],
   "source": [
    "df['new_col'] = df.Municipios.apply(scrap_wiki)"
   ]
  },
  {
   "cell_type": "code",
   "execution_count": 47,
   "metadata": {},
   "outputs": [
    {
     "data": {
      "text/html": [
       "<div>\n",
       "<style scoped>\n",
       "    .dataframe tbody tr th:only-of-type {\n",
       "        vertical-align: middle;\n",
       "    }\n",
       "\n",
       "    .dataframe tbody tr th {\n",
       "        vertical-align: top;\n",
       "    }\n",
       "\n",
       "    .dataframe thead th {\n",
       "        text-align: right;\n",
       "    }\n",
       "</style>\n",
       "<table border=\"1\" class=\"dataframe\">\n",
       "  <thead>\n",
       "    <tr style=\"text-align: right;\">\n",
       "      <th></th>\n",
       "      <th>Municipios</th>\n",
       "      <th>Sexo</th>\n",
       "      <th>Periodo</th>\n",
       "      <th>Total</th>\n",
       "      <th>new_col</th>\n",
       "    </tr>\n",
       "  </thead>\n",
       "  <tbody>\n",
       "    <tr>\n",
       "      <th>1</th>\n",
       "      <td>Abajas</td>\n",
       "      <td>Total</td>\n",
       "      <td>2021</td>\n",
       "      <td>29.0</td>\n",
       "      <td>(María Amparo Rodríguez Arnaiz, PP)</td>\n",
       "    </tr>\n",
       "    <tr>\n",
       "      <th>2</th>\n",
       "      <td>Adrada de Haza</td>\n",
       "      <td>Total</td>\n",
       "      <td>2021</td>\n",
       "      <td>197.0</td>\n",
       "      <td>(María Luisa Plaza Lazar, C's)</td>\n",
       "    </tr>\n",
       "    <tr>\n",
       "      <th>3</th>\n",
       "      <td>Aguas Cándidas</td>\n",
       "      <td>Total</td>\n",
       "      <td>2021</td>\n",
       "      <td>56.0</td>\n",
       "      <td>(Justo García Bárcena, PP)</td>\n",
       "    </tr>\n",
       "    <tr>\n",
       "      <th>4</th>\n",
       "      <td>Aguilar de Bureba</td>\n",
       "      <td>Total</td>\n",
       "      <td>2021</td>\n",
       "      <td>52.0</td>\n",
       "      <td>(José María Martínez González, PP)</td>\n",
       "    </tr>\n",
       "    <tr>\n",
       "      <th>5</th>\n",
       "      <td>Albillos</td>\n",
       "      <td>Total</td>\n",
       "      <td>2021</td>\n",
       "      <td>221.0</td>\n",
       "      <td>(Jesús Ángel Santamaría Martínez, PP)</td>\n",
       "    </tr>\n",
       "  </tbody>\n",
       "</table>\n",
       "</div>"
      ],
      "text/plain": [
       "          Municipios   Sexo  Periodo  Total  \\\n",
       "1             Abajas  Total     2021   29.0   \n",
       "2     Adrada de Haza  Total     2021  197.0   \n",
       "3     Aguas Cándidas  Total     2021   56.0   \n",
       "4  Aguilar de Bureba  Total     2021   52.0   \n",
       "5           Albillos  Total     2021  221.0   \n",
       "\n",
       "                                 new_col  \n",
       "1    (María Amparo Rodríguez Arnaiz, PP)  \n",
       "2         (María Luisa Plaza Lazar, C's)  \n",
       "3             (Justo García Bárcena, PP)  \n",
       "4     (José María Martínez González, PP)  \n",
       "5  (Jesús Ángel Santamaría Martínez, PP)  "
      ]
     },
     "execution_count": 47,
     "metadata": {},
     "output_type": "execute_result"
    }
   ],
   "source": [
    "df.head()"
   ]
  },
  {
   "cell_type": "code",
   "execution_count": 27,
   "metadata": {},
   "outputs": [],
   "source": [
    "df_new_ = pd.DataFrame(df_new)"
   ]
  },
  {
   "cell_type": "code",
   "execution_count": 41,
   "metadata": {},
   "outputs": [],
   "source": [
    "df_new_['nombre']= df_new_.Municipios.apply(lambda x: x[0])\n",
    "df_new_['ppolitico']= df_new_.Municipios.apply(lambda x: x[1])\n"
   ]
  },
  {
   "cell_type": "code",
   "execution_count": null,
   "metadata": {},
   "outputs": [],
   "source": []
  },
  {
   "cell_type": "code",
   "execution_count": 45,
   "metadata": {},
   "outputs": [
    {
     "data": {
      "text/plain": [
       "PP                                                            194\n",
       "PSOE                                                           79\n",
       "C's                                                            22\n",
       "Cs                                                              7\n",
       "PCAS-TC                                                         2\n",
       "Vox                                                             2\n",
       "Imagina Burgos                                                  2\n",
       "PR                                                              1\n",
       "Agrupación Palanciana Independiente                             1\n",
       "Partido Popular                                                 1\n",
       "EH Bildu                                                        1\n",
       "PCAS)[1]​                                                       1\n",
       "A.G.E.I.S.M.R.                                                  1\n",
       "AIRE                                                            1\n",
       "AEI                                                             1\n",
       "IMC                                                             1\n",
       "PSYP                                                            1\n",
       "Iniciativa Merindades de Castilla                               1\n",
       "PP)[1]​                                                         1\n",
       "Cs)[1]​                                                         1\n",
       "VIDV                                                            1\n",
       "IU CyL                                                          1\n",
       "IH)[1]​                                                         1\n",
       "Juntos por Valdivielso                                          1\n",
       "UPyD                                                            1\n",
       "Agrupación de Electores Independientes                          1\n",
       "PNV                                                             1\n",
       "Agrupación de Electores Cardeñajimeno-San Medel. A.E.C.SM.      1\n",
       "PP)[2]​                                                         1\n",
       "VOX                                                             1\n",
       "PCAS                                                            1\n",
       "VECINOS                                                         1\n",
       "GLB                                                             1\n",
       "AIBDH                                                           1\n",
       "Imagina                                                         1\n",
       "AEAR                                                            1\n",
       "Independientes Alfoz de Quintanadueñas                          1\n",
       "PCAS-TC-PACTO                                                   1\n",
       "Iniciativa Merindades                                           1\n",
       "Name: ppolitico, dtype: int64"
      ]
     },
     "execution_count": 45,
     "metadata": {},
     "output_type": "execute_result"
    }
   ],
   "source": [
    "df_new_.ppolitico.value_counts()"
   ]
  },
  {
   "cell_type": "code",
   "execution_count": null,
   "metadata": {},
   "outputs": [],
   "source": []
  }
 ],
 "metadata": {
  "interpreter": {
   "hash": "d00a1931e609772884d4e4263bd83cd526fe20ad88d0f2499e0ed4fd2f889d0e"
  },
  "kernelspec": {
   "display_name": "Python 3.8.12 ('ironhack')",
   "language": "python",
   "name": "python3"
  },
  "language_info": {
   "codemirror_mode": {
    "name": "ipython",
    "version": 3
   },
   "file_extension": ".py",
   "mimetype": "text/x-python",
   "name": "python",
   "nbconvert_exporter": "python",
   "pygments_lexer": "ipython3",
   "version": "3.8.12"
  },
  "orig_nbformat": 4
 },
 "nbformat": 4,
 "nbformat_minor": 2
}
