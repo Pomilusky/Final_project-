{
 "cells": [
  {
   "cell_type": "code",
   "execution_count": 1,
   "metadata": {},
   "outputs": [],
   "source": [
    "import pandas as pd"
   ]
  },
  {
   "cell_type": "code",
   "execution_count": 87,
   "metadata": {},
   "outputs": [],
   "source": [
    "df_muns = pd.read_csv('../Data/castilla_leon/ParaBD/Total.csv', index_col = ['Unnamed: 0']).reset_index(drop=True)"
   ]
  },
  {
   "cell_type": "code",
   "execution_count": 88,
   "metadata": {},
   "outputs": [],
   "source": [
    "df_muns.rename(columns={'new_col':'partido_gov'}, inplace=True)"
   ]
  },
  {
   "cell_type": "code",
   "execution_count": 89,
   "metadata": {},
   "outputs": [
    {
     "data": {
      "text/html": [
       "<div>\n",
       "<style scoped>\n",
       "    .dataframe tbody tr th:only-of-type {\n",
       "        vertical-align: middle;\n",
       "    }\n",
       "\n",
       "    .dataframe tbody tr th {\n",
       "        vertical-align: top;\n",
       "    }\n",
       "\n",
       "    .dataframe thead th {\n",
       "        text-align: right;\n",
       "    }\n",
       "</style>\n",
       "<table border=\"1\" class=\"dataframe\">\n",
       "  <thead>\n",
       "    <tr style=\"text-align: right;\">\n",
       "      <th></th>\n",
       "      <th>Total</th>\n",
       "      <th>CP</th>\n",
       "      <th>partido_gov</th>\n",
       "    </tr>\n",
       "  </thead>\n",
       "  <tbody>\n",
       "    <tr>\n",
       "      <th>0</th>\n",
       "      <td>290</td>\n",
       "      <td>9001</td>\n",
       "      <td>PP</td>\n",
       "    </tr>\n",
       "    <tr>\n",
       "      <th>1</th>\n",
       "      <td>1970</td>\n",
       "      <td>9003</td>\n",
       "      <td>C's</td>\n",
       "    </tr>\n",
       "  </tbody>\n",
       "</table>\n",
       "</div>"
      ],
      "text/plain": [
       "   Total    CP partido_gov\n",
       "0    290  9001          PP\n",
       "1   1970  9003         C's"
      ]
     },
     "execution_count": 89,
     "metadata": {},
     "output_type": "execute_result"
    }
   ],
   "source": [
    "df_muns.drop(columns=['Municipios','Provincia'], inplace=True)\n",
    "df_muns.head(2) # nos quedamos solo con las columnas con las que haremos append con el otro dataframe"
   ]
  },
  {
   "cell_type": "code",
   "execution_count": 100,
   "metadata": {},
   "outputs": [
    {
     "data": {
      "text/plain": [
       "2248"
      ]
     },
     "execution_count": 100,
     "metadata": {},
     "output_type": "execute_result"
    }
   ],
   "source": [
    "len(df_muns.CP.unique())"
   ]
  },
  {
   "cell_type": "code",
   "execution_count": 101,
   "metadata": {},
   "outputs": [],
   "source": [
    "df_pob = pd.read_csv('../Data/castilla_leon/main.csv', index_col=['Unnamed: 0']).reset_index(drop=True)"
   ]
  },
  {
   "cell_type": "code",
   "execution_count": 102,
   "metadata": {},
   "outputs": [],
   "source": [
    "def getCN(C_esp, provincia):\n",
    "    if provincia in ['Salamanca','Palencia','Soria','León','Segovia','Valladolid','Zamora']:\n",
    "        return int(str(C_esp)[:5])\n",
    "    elif provincia in ['Burgos','Ávila']:\n",
    "        return int(str(C_esp)[:4])"
   ]
  },
  {
   "cell_type": "code",
   "execution_count": 103,
   "metadata": {},
   "outputs": [],
   "source": [
    "df_pob['CP']  = df_pob.apply(lambda x: getCN(x['Código ESP'], x['Provincia']),axis=1)"
   ]
  },
  {
   "cell_type": "code",
   "execution_count": 104,
   "metadata": {},
   "outputs": [
    {
     "data": {
      "text/html": [
       "<div>\n",
       "<style scoped>\n",
       "    .dataframe tbody tr th:only-of-type {\n",
       "        vertical-align: middle;\n",
       "    }\n",
       "\n",
       "    .dataframe tbody tr th {\n",
       "        vertical-align: top;\n",
       "    }\n",
       "\n",
       "    .dataframe thead th {\n",
       "        text-align: right;\n",
       "    }\n",
       "</style>\n",
       "<table border=\"1\" class=\"dataframe\">\n",
       "  <thead>\n",
       "    <tr style=\"text-align: right;\">\n",
       "      <th></th>\n",
       "      <th>Comunidad Autónoma</th>\n",
       "      <th>Provincia</th>\n",
       "      <th>Municipio</th>\n",
       "      <th>Código ESP</th>\n",
       "      <th>Entidad Singular de Población</th>\n",
       "      <th>Cobertura ≥ 30Mbps</th>\n",
       "      <th>Cobertura redes fijas ≥ 100Mbps</th>\n",
       "      <th>Cobertura 3G HSPA</th>\n",
       "      <th>Cobertura 4G LTE</th>\n",
       "      <th>coord</th>\n",
       "      <th>Weather_info</th>\n",
       "      <th>CP</th>\n",
       "    </tr>\n",
       "  </thead>\n",
       "  <tbody>\n",
       "    <tr>\n",
       "      <th>251</th>\n",
       "      <td>Castilla y León</td>\n",
       "      <td>Ávila</td>\n",
       "      <td>Navaluenga</td>\n",
       "      <td>5163000500</td>\n",
       "      <td>NAVAPALVA</td>\n",
       "      <td>0.0</td>\n",
       "      <td>0.0</td>\n",
       "      <td>1.0</td>\n",
       "      <td>1.0</td>\n",
       "      <td>NaN</td>\n",
       "      <td>Not found</td>\n",
       "      <td>5163</td>\n",
       "    </tr>\n",
       "    <tr>\n",
       "      <th>957</th>\n",
       "      <td>Castilla y León</td>\n",
       "      <td>Burgos</td>\n",
       "      <td>Merindad de Valdeporres</td>\n",
       "      <td>9216000300</td>\n",
       "      <td>CIDAD</td>\n",
       "      <td>1.0</td>\n",
       "      <td>0.0</td>\n",
       "      <td>1.0</td>\n",
       "      <td>1.0</td>\n",
       "      <td>NaN</td>\n",
       "      <td>En Ciudad de México, la temporada de lluvia es...</td>\n",
       "      <td>9216</td>\n",
       "    </tr>\n",
       "  </tbody>\n",
       "</table>\n",
       "</div>"
      ],
      "text/plain": [
       "    Comunidad Autónoma Provincia                Municipio  Código ESP  \\\n",
       "251    Castilla y León     Ávila               Navaluenga  5163000500   \n",
       "957    Castilla y León    Burgos  Merindad de Valdeporres  9216000300   \n",
       "\n",
       "    Entidad Singular de Población  Cobertura ≥ 30Mbps  \\\n",
       "251                     NAVAPALVA                 0.0   \n",
       "957                         CIDAD                 1.0   \n",
       "\n",
       "     Cobertura redes fijas ≥ 100Mbps  Cobertura 3G HSPA  Cobertura 4G LTE  \\\n",
       "251                              0.0                1.0               1.0   \n",
       "957                              0.0                1.0               1.0   \n",
       "\n",
       "    coord                                       Weather_info    CP  \n",
       "251   NaN                                          Not found  5163  \n",
       "957   NaN  En Ciudad de México, la temporada de lluvia es...  9216  "
      ]
     },
     "execution_count": 104,
     "metadata": {},
     "output_type": "execute_result"
    }
   ],
   "source": [
    "df_pob.sample(2)"
   ]
  },
  {
   "cell_type": "code",
   "execution_count": 105,
   "metadata": {},
   "outputs": [
    {
     "data": {
      "text/plain": [
       "(6175, 12)"
      ]
     },
     "execution_count": 105,
     "metadata": {},
     "output_type": "execute_result"
    }
   ],
   "source": [
    "df_pob.shape"
   ]
  },
  {
   "cell_type": "code",
   "execution_count": 107,
   "metadata": {},
   "outputs": [],
   "source": [
    "df_tosafe = df_pob.merge(df_muns, on = 'CP')"
   ]
  },
  {
   "cell_type": "code",
   "execution_count": 110,
   "metadata": {},
   "outputs": [],
   "source": [
    "df_tosafe.rename(columns={'Total':'pob_tot_muni'}, inplace=True)"
   ]
  },
  {
   "cell_type": "code",
   "execution_count": 113,
   "metadata": {},
   "outputs": [],
   "source": [
    "df_tosafe.to_csv('../Data/castilla_leon/main.csv')"
   ]
  },
  {
   "cell_type": "code",
   "execution_count": null,
   "metadata": {},
   "outputs": [],
   "source": []
  }
 ],
 "metadata": {
  "interpreter": {
   "hash": "d00a1931e609772884d4e4263bd83cd526fe20ad88d0f2499e0ed4fd2f889d0e"
  },
  "kernelspec": {
   "display_name": "Python 3.8.12 ('ironhack')",
   "language": "python",
   "name": "python3"
  },
  "language_info": {
   "codemirror_mode": {
    "name": "ipython",
    "version": 3
   },
   "file_extension": ".py",
   "mimetype": "text/x-python",
   "name": "python",
   "nbconvert_exporter": "python",
   "pygments_lexer": "ipython3",
   "version": "3.8.12"
  },
  "orig_nbformat": 4
 },
 "nbformat": 4,
 "nbformat_minor": 2
}
