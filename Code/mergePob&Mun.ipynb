{
 "cells": [
  {
   "cell_type": "code",
   "execution_count": 1,
   "metadata": {},
   "outputs": [],
   "source": [
    "import pandas as pd"
   ]
  },
  {
   "cell_type": "code",
   "execution_count": 2,
   "metadata": {},
   "outputs": [],
   "source": [
    "df_muns = pd.read_csv('../Data/castilla_leon/ParaBD/Total.csv', index_col = ['Unnamed: 0']).reset_index(drop=True)"
   ]
  },
  {
   "cell_type": "code",
   "execution_count": 3,
   "metadata": {},
   "outputs": [],
   "source": [
    "df_muns.rename(columns={'new_col':'partido_gov'}, inplace=True)"
   ]
  },
  {
   "cell_type": "code",
   "execution_count": 4,
   "metadata": {},
   "outputs": [
    {
     "data": {
      "text/html": [
       "<div>\n",
       "<style scoped>\n",
       "    .dataframe tbody tr th:only-of-type {\n",
       "        vertical-align: middle;\n",
       "    }\n",
       "\n",
       "    .dataframe tbody tr th {\n",
       "        vertical-align: top;\n",
       "    }\n",
       "\n",
       "    .dataframe thead th {\n",
       "        text-align: right;\n",
       "    }\n",
       "</style>\n",
       "<table border=\"1\" class=\"dataframe\">\n",
       "  <thead>\n",
       "    <tr style=\"text-align: right;\">\n",
       "      <th></th>\n",
       "      <th>Total</th>\n",
       "      <th>CP</th>\n",
       "      <th>partido_gov</th>\n",
       "    </tr>\n",
       "  </thead>\n",
       "  <tbody>\n",
       "    <tr>\n",
       "      <th>0</th>\n",
       "      <td>290</td>\n",
       "      <td>9001</td>\n",
       "      <td>PP</td>\n",
       "    </tr>\n",
       "    <tr>\n",
       "      <th>1</th>\n",
       "      <td>1970</td>\n",
       "      <td>9003</td>\n",
       "      <td>C's</td>\n",
       "    </tr>\n",
       "  </tbody>\n",
       "</table>\n",
       "</div>"
      ],
      "text/plain": [
       "   Total    CP partido_gov\n",
       "0    290  9001          PP\n",
       "1   1970  9003         C's"
      ]
     },
     "execution_count": 4,
     "metadata": {},
     "output_type": "execute_result"
    }
   ],
   "source": [
    "df_muns.drop(columns=['Municipios','Provincia'], inplace=True)\n",
    "df_muns.head(2) # nos quedamos solo con las columnas con las que haremos append con el otro dataframe"
   ]
  },
  {
   "cell_type": "code",
   "execution_count": 5,
   "metadata": {},
   "outputs": [
    {
     "data": {
      "text/plain": [
       "2248"
      ]
     },
     "execution_count": 5,
     "metadata": {},
     "output_type": "execute_result"
    }
   ],
   "source": [
    "len(df_muns.CP.unique())"
   ]
  },
  {
   "cell_type": "code",
   "execution_count": 6,
   "metadata": {},
   "outputs": [],
   "source": [
    "df_pob = pd.read_csv('../Data/castilla_leon/main.csv', index_col=['Unnamed: 0']).reset_index(drop=True)"
   ]
  },
  {
   "cell_type": "code",
   "execution_count": 7,
   "metadata": {},
   "outputs": [],
   "source": [
    "def getCN(C_esp, provincia):\n",
    "    if provincia in ['Salamanca','Palencia','Soria','León','Segovia','Valladolid','Zamora']:\n",
    "        return int(str(C_esp)[:5])\n",
    "    elif provincia in ['Burgos','Ávila']:\n",
    "        return int(str(C_esp)[:4])"
   ]
  },
  {
   "cell_type": "code",
   "execution_count": 8,
   "metadata": {},
   "outputs": [],
   "source": [
    "df_pob['CP']  = df_pob.apply(lambda x: getCN(x['Código ESP'], x['Provincia']),axis=1)"
   ]
  },
  {
   "cell_type": "code",
   "execution_count": 9,
   "metadata": {},
   "outputs": [
    {
     "data": {
      "text/html": [
       "<div>\n",
       "<style scoped>\n",
       "    .dataframe tbody tr th:only-of-type {\n",
       "        vertical-align: middle;\n",
       "    }\n",
       "\n",
       "    .dataframe tbody tr th {\n",
       "        vertical-align: top;\n",
       "    }\n",
       "\n",
       "    .dataframe thead th {\n",
       "        text-align: right;\n",
       "    }\n",
       "</style>\n",
       "<table border=\"1\" class=\"dataframe\">\n",
       "  <thead>\n",
       "    <tr style=\"text-align: right;\">\n",
       "      <th></th>\n",
       "      <th>Comunidad Autónoma</th>\n",
       "      <th>Provincia</th>\n",
       "      <th>Municipio</th>\n",
       "      <th>Código ESP</th>\n",
       "      <th>Entidad Singular de Población</th>\n",
       "      <th>Cobertura ≥ 30Mbps</th>\n",
       "      <th>Cobertura redes fijas ≥ 100Mbps</th>\n",
       "      <th>Cobertura 3G HSPA</th>\n",
       "      <th>Cobertura 4G LTE</th>\n",
       "      <th>coord</th>\n",
       "      <th>Weather_info</th>\n",
       "      <th>CP</th>\n",
       "      <th>pob_tot_muni</th>\n",
       "      <th>partido_gov</th>\n",
       "    </tr>\n",
       "  </thead>\n",
       "  <tbody>\n",
       "    <tr>\n",
       "      <th>2709</th>\n",
       "      <td>Castilla y León</td>\n",
       "      <td>León</td>\n",
       "      <td>Valdepiélago</td>\n",
       "      <td>24179000600</td>\n",
       "      <td>OTERO DE CURUEÑO</td>\n",
       "      <td>1.0</td>\n",
       "      <td>0.0</td>\n",
       "      <td>1.0</td>\n",
       "      <td>1.00</td>\n",
       "      <td>(42.856627777778, 5.3947583333333)</td>\n",
       "      <td>Not found</td>\n",
       "      <td>24179</td>\n",
       "      <td>3090</td>\n",
       "      <td>PP</td>\n",
       "    </tr>\n",
       "    <tr>\n",
       "      <th>4993</th>\n",
       "      <td>Castilla y León</td>\n",
       "      <td>Soria</td>\n",
       "      <td>Berlanga de Duero</td>\n",
       "      <td>42035000100</td>\n",
       "      <td>ABANCO</td>\n",
       "      <td>0.0</td>\n",
       "      <td>0.0</td>\n",
       "      <td>1.0</td>\n",
       "      <td>0.99</td>\n",
       "      <td>(41.381388888889, 2.9505555555556)</td>\n",
       "      <td>En Abano Terme, los veranos son calurosos y hú...</td>\n",
       "      <td>42035</td>\n",
       "      <td>8720</td>\n",
       "      <td>PSOE</td>\n",
       "    </tr>\n",
       "  </tbody>\n",
       "</table>\n",
       "</div>"
      ],
      "text/plain": [
       "     Comunidad Autónoma Provincia          Municipio   Código ESP  \\\n",
       "2709    Castilla y León      León       Valdepiélago  24179000600   \n",
       "4993    Castilla y León     Soria  Berlanga de Duero  42035000100   \n",
       "\n",
       "     Entidad Singular de Población  Cobertura ≥ 30Mbps  \\\n",
       "2709              OTERO DE CURUEÑO                 1.0   \n",
       "4993                        ABANCO                 0.0   \n",
       "\n",
       "      Cobertura redes fijas ≥ 100Mbps  Cobertura 3G HSPA  Cobertura 4G LTE  \\\n",
       "2709                              0.0                1.0              1.00   \n",
       "4993                              0.0                1.0              0.99   \n",
       "\n",
       "                                   coord  \\\n",
       "2709  (42.856627777778, 5.3947583333333)   \n",
       "4993  (41.381388888889, 2.9505555555556)   \n",
       "\n",
       "                                           Weather_info     CP  pob_tot_muni  \\\n",
       "2709                                          Not found  24179          3090   \n",
       "4993  En Abano Terme, los veranos son calurosos y hú...  42035          8720   \n",
       "\n",
       "     partido_gov  \n",
       "2709          PP  \n",
       "4993        PSOE  "
      ]
     },
     "execution_count": 9,
     "metadata": {},
     "output_type": "execute_result"
    }
   ],
   "source": [
    "df_pob.sample(2)"
   ]
  },
  {
   "cell_type": "code",
   "execution_count": 10,
   "metadata": {},
   "outputs": [
    {
     "data": {
      "text/plain": [
       "(6175, 14)"
      ]
     },
     "execution_count": 10,
     "metadata": {},
     "output_type": "execute_result"
    }
   ],
   "source": [
    "df_pob.shape"
   ]
  },
  {
   "cell_type": "code",
   "execution_count": 11,
   "metadata": {},
   "outputs": [],
   "source": [
    "df_tosafe = df_pob.merge(df_muns, on = 'CP')"
   ]
  },
  {
   "cell_type": "code",
   "execution_count": 110,
   "metadata": {},
   "outputs": [],
   "source": [
    "df_tosafe.rename(columns={'Total':'pob_tot_muni'}, inplace=True)"
   ]
  },
  {
   "cell_type": "code",
   "execution_count": 113,
   "metadata": {},
   "outputs": [],
   "source": [
    "df_tosafe.to_csv('../Data/castilla_leon/main.csv')"
   ]
  },
  {
   "cell_type": "code",
   "execution_count": null,
   "metadata": {},
   "outputs": [],
   "source": []
  }
 ],
 "metadata": {
  "interpreter": {
   "hash": "d00a1931e609772884d4e4263bd83cd526fe20ad88d0f2499e0ed4fd2f889d0e"
  },
  "kernelspec": {
   "display_name": "Python 3.8.12 ('ironhack')",
   "language": "python",
   "name": "python3"
  },
  "language_info": {
   "codemirror_mode": {
    "name": "ipython",
    "version": 3
   },
   "file_extension": ".py",
   "mimetype": "text/x-python",
   "name": "python",
   "nbconvert_exporter": "python",
   "pygments_lexer": "ipython3",
   "version": "3.8.12"
  },
  "orig_nbformat": 4
 },
 "nbformat": 4,
 "nbformat_minor": 2
}
