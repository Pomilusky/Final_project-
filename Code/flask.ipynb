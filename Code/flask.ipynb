{
 "cells": [
  {
   "cell_type": "code",
   "execution_count": 11,
   "metadata": {},
   "outputs": [
    {
     "name": "stdout",
     "output_type": "stream",
     "text": [
      " * Serving Flask app '__main__' (lazy loading)\n",
      " * Environment: production\n",
      "\u001b[31m   WARNING: This is a development server. Do not use it in a production deployment.\u001b[0m\n",
      "\u001b[2m   Use a production WSGI server instead.\u001b[0m\n",
      " * Debug mode: off\n"
     ]
    },
    {
     "name": "stderr",
     "output_type": "stream",
     "text": [
      " * Running on http://127.0.0.1:5000/ (Press CTRL+C to quit)\n",
      "127.0.0.1 - - [09/Mar/2022 16:35:52] \"GET / HTTP/1.1\" 200 -\n",
      "127.0.0.1 - - [09/Mar/2022 16:35:58] \"GET /help/ HTTP/1.1\" 200 -\n",
      "127.0.0.1 - - [09/Mar/2022 16:36:05] \"GET /pueblo/?p=Adanero HTTP/1.1\" 200 -\n",
      "127.0.0.1 - - [09/Mar/2022 16:36:12] \"GET /pueblo/?p=Albornos HTTP/1.1\" 200 -\n",
      "127.0.0.1 - - [09/Mar/2022 16:36:36] \"GET /filtro/ HTTP/1.1\" 404 -\n"
     ]
    }
   ],
   "source": [
    "from flask import Flask, request, Markup\n",
    "import fun_4api\n",
    "import pymongo\n",
    "import pandas as pd\n",
    "\n",
    "app = Flask(__name__)\n",
    "\n",
    "\n",
    "@app.route('/')\n",
    "def main():\n",
    "    string = \"\"\"¡Bienvenido!¡Welcome!<br>Si es tu primera vez puedes encontrar toda la información sobre mi funcionamiento con la extención /help/.<br>Si no es tu primera vez, dime de que pueblo quieres que te de información, y que información deseas!!!<br> \"\"\"\n",
    "    return Markup(string) # string.replace('\\n', '<br>')'First line.<br>Second line.<br>'\n",
    "\n",
    "    \n",
    "@app.route('/help/') \n",
    "def help():\n",
    "    help_string=\"\"\"Funciones disponibles:<br>\n",
    "                '/pueblo?p=' : esta función permite buscar un pueblo en España y disponer de información sobre el pueblo,<br> \n",
    "                sobre su clima, la connectividad y los servicios a su alrededor.<br>\n",
    "                EJEMPLO: http://127.0.0.1:5000/pueblo?p=Adanero<br>\n",
    "                '/filtro?entidad=&distancia=': Nos permite detectar pueblos que esten a una distancia X de una entidad, por ejemplo un hospital.<br> \n",
    "                                                IMPORTANTE, la distancia tiene que estar en km!<br>\n",
    "                EJEMPLO: http://127.0.0.1:5000/filtro?entidad=Hospital&distancia=20<br>\n",
    "                \"\"\"\n",
    "    return help_string\n",
    "\n",
    "@app.route('/pueblo/')\n",
    "def index():\n",
    "    pueblo=request.args.get('p').upper()\n",
    "    folium_map=fun_4api.creacion_mapa(pueblo)\n",
    "    return folium_map._repr_html_()\n",
    "\n",
    "\n",
    "@app.route('/filter/')\n",
    "def filter():\n",
    "    cliente=pymongo.MongoClient('mongodb://localhost:27017')  # cliente , la conexion por defecto\n",
    "    db=cliente.EmptiedSpain   # llamada a la base de datos\n",
    "    db.emptiedSpain.create_index([('location', '2dsphere')])\n",
    "    return 'Esta función aún no está disponible, esperamos tenerla disponible en cuanto antes'\n",
    "\n",
    "\n",
    "if __name__ == '__main__':\n",
    "    app.run(debug=False)"
   ]
  },
  {
   "cell_type": "code",
   "execution_count": null,
   "metadata": {},
   "outputs": [],
   "source": []
  }
 ],
 "metadata": {
  "interpreter": {
   "hash": "d00a1931e609772884d4e4263bd83cd526fe20ad88d0f2499e0ed4fd2f889d0e"
  },
  "kernelspec": {
   "display_name": "Python 3.8.12 ('ironhack')",
   "language": "python",
   "name": "python3"
  },
  "language_info": {
   "codemirror_mode": {
    "name": "ipython",
    "version": 3
   },
   "file_extension": ".py",
   "mimetype": "text/x-python",
   "name": "python",
   "nbconvert_exporter": "python",
   "pygments_lexer": "ipython3",
   "version": "3.8.12"
  },
  "orig_nbformat": 4
 },
 "nbformat": 4,
 "nbformat_minor": 2
}
